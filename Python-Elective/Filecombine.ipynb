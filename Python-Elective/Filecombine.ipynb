{
 "cells": [
  {
   "cell_type": "code",
   "execution_count": 1,
   "metadata": {},
   "outputs": [],
   "source": [
    "import pandas as pd\n",
    "\n"
   ]
  },
  {
   "cell_type": "code",
   "execution_count": 2,
   "metadata": {},
   "outputs": [],
   "source": [
    "list_csvs = [r\"C:\\Users\\soura\\Downloads\\freecodecamp-intro-to-numpy-master\\Python-Elective\\Quote-Equity-TORNTPHARM-EQ-25-11-2023-to-25-11-2024.csv\",r\"C:\\Users\\soura\\Downloads\\freecodecamp-intro-to-numpy-master\\Python-Elective\\Quote-Equity-TORNTPHARM-EQ-25-11-2022-to-24-11-2023.csv\",r\"C:\\Users\\soura\\Downloads\\freecodecamp-intro-to-numpy-master\\Python-Elective\\Quote-Equity-TORNTPHARM-EQ-25-11-2021-to-24-11-2022.csv\",r\"C:\\Users\\soura\\Downloads\\freecodecamp-intro-to-numpy-master\\Python-Elective\\Quote-Equity-TORNTPHARM-EQ-25-11-2020-to-24-11-2021.csv\",r\"C:\\Users\\soura\\Downloads\\freecodecamp-intro-to-numpy-master\\Python-Elective\\Quote-Equity-TORNTPHARM-EQ-25-11-2019-to-24-11-2020.csv\"]\n"
   ]
  },
  {
   "cell_type": "code",
   "execution_count": 3,
   "metadata": {},
   "outputs": [
    {
     "data": {
      "text/plain": [
       "(1257, 14)"
      ]
     },
     "execution_count": 3,
     "metadata": {},
     "output_type": "execute_result"
    }
   ],
   "source": [
    "df = pd.concat( \n",
    "    map(pd.read_csv, list_csvs), ignore_index=True) \n",
    "df.shape"
   ]
  },
  {
   "cell_type": "code",
   "execution_count": 4,
   "metadata": {},
   "outputs": [
    {
     "data": {
      "text/html": [
       "<div>\n",
       "<style scoped>\n",
       "    .dataframe tbody tr th:only-of-type {\n",
       "        vertical-align: middle;\n",
       "    }\n",
       "\n",
       "    .dataframe tbody tr th {\n",
       "        vertical-align: top;\n",
       "    }\n",
       "\n",
       "    .dataframe thead th {\n",
       "        text-align: right;\n",
       "    }\n",
       "</style>\n",
       "<table border=\"1\" class=\"dataframe\">\n",
       "  <thead>\n",
       "    <tr style=\"text-align: right;\">\n",
       "      <th></th>\n",
       "      <th>Date</th>\n",
       "      <th>series</th>\n",
       "      <th>OPEN</th>\n",
       "      <th>HIGH</th>\n",
       "      <th>LOW</th>\n",
       "      <th>PREV. CLOSE</th>\n",
       "      <th>ltp</th>\n",
       "      <th>close</th>\n",
       "      <th>vwap</th>\n",
       "      <th>52W H</th>\n",
       "      <th>52W L</th>\n",
       "      <th>VOLUME</th>\n",
       "      <th>VALUE</th>\n",
       "      <th>No of trades</th>\n",
       "    </tr>\n",
       "  </thead>\n",
       "  <tbody>\n",
       "    <tr>\n",
       "      <th>0</th>\n",
       "      <td>22-Nov-2024</td>\n",
       "      <td>EQ</td>\n",
       "      <td>3,102.05</td>\n",
       "      <td>3,189.70</td>\n",
       "      <td>3,102.05</td>\n",
       "      <td>3,101.95</td>\n",
       "      <td>3,171.00</td>\n",
       "      <td>3,167.10</td>\n",
       "      <td>3,157.59</td>\n",
       "      <td>3,590.70</td>\n",
       "      <td>2,025.70</td>\n",
       "      <td>2,90,862</td>\n",
       "      <td>91,84,24,037.90</td>\n",
       "      <td>43,775</td>\n",
       "    </tr>\n",
       "    <tr>\n",
       "      <th>1</th>\n",
       "      <td>21-Nov-2024</td>\n",
       "      <td>EQ</td>\n",
       "      <td>3,095.05</td>\n",
       "      <td>3,128.00</td>\n",
       "      <td>3,076.00</td>\n",
       "      <td>3,094.85</td>\n",
       "      <td>3,102.90</td>\n",
       "      <td>3,101.95</td>\n",
       "      <td>3,101.52</td>\n",
       "      <td>3,590.70</td>\n",
       "      <td>2,025.70</td>\n",
       "      <td>1,70,973</td>\n",
       "      <td>53,02,75,810.25</td>\n",
       "      <td>29,666</td>\n",
       "    </tr>\n",
       "    <tr>\n",
       "      <th>2</th>\n",
       "      <td>19-Nov-2024</td>\n",
       "      <td>EQ</td>\n",
       "      <td>3,105.60</td>\n",
       "      <td>3,133.55</td>\n",
       "      <td>3,085.90</td>\n",
       "      <td>3,105.60</td>\n",
       "      <td>3,087.85</td>\n",
       "      <td>3,094.85</td>\n",
       "      <td>3,108.01</td>\n",
       "      <td>3,590.70</td>\n",
       "      <td>2,025.70</td>\n",
       "      <td>1,71,432</td>\n",
       "      <td>53,28,12,144.55</td>\n",
       "      <td>25,390</td>\n",
       "    </tr>\n",
       "    <tr>\n",
       "      <th>3</th>\n",
       "      <td>18-Nov-2024</td>\n",
       "      <td>EQ</td>\n",
       "      <td>3,103.05</td>\n",
       "      <td>3,141.00</td>\n",
       "      <td>3,075.25</td>\n",
       "      <td>3,102.40</td>\n",
       "      <td>3,109.95</td>\n",
       "      <td>3,105.60</td>\n",
       "      <td>3,112.41</td>\n",
       "      <td>3,590.70</td>\n",
       "      <td>2,025.70</td>\n",
       "      <td>1,95,002</td>\n",
       "      <td>60,69,25,937.50</td>\n",
       "      <td>33,376</td>\n",
       "    </tr>\n",
       "    <tr>\n",
       "      <th>4</th>\n",
       "      <td>14-Nov-2024</td>\n",
       "      <td>EQ</td>\n",
       "      <td>3,116.05</td>\n",
       "      <td>3,141.45</td>\n",
       "      <td>3,094.60</td>\n",
       "      <td>3,116.60</td>\n",
       "      <td>3,115.00</td>\n",
       "      <td>3,102.40</td>\n",
       "      <td>3,121.00</td>\n",
       "      <td>3,590.70</td>\n",
       "      <td>2,024.65</td>\n",
       "      <td>2,23,405</td>\n",
       "      <td>69,72,46,412.05</td>\n",
       "      <td>25,293</td>\n",
       "    </tr>\n",
       "  </tbody>\n",
       "</table>\n",
       "</div>"
      ],
      "text/plain": [
       "         Date  series      OPEN      HIGH       LOW  PREV. CLOSE       ltp   \\\n",
       "0  22-Nov-2024      EQ  3,102.05  3,189.70  3,102.05     3,101.95  3,171.00   \n",
       "1  21-Nov-2024      EQ  3,095.05  3,128.00  3,076.00     3,094.85  3,102.90   \n",
       "2  19-Nov-2024      EQ  3,105.60  3,133.55  3,085.90     3,105.60  3,087.85   \n",
       "3  18-Nov-2024      EQ  3,103.05  3,141.00  3,075.25     3,102.40  3,109.95   \n",
       "4  14-Nov-2024      EQ  3,116.05  3,141.45  3,094.60     3,116.60  3,115.00   \n",
       "\n",
       "     close      vwap     52W H     52W L    VOLUME            VALUE   \\\n",
       "0  3,167.10  3,157.59  3,590.70  2,025.70  2,90,862  91,84,24,037.90   \n",
       "1  3,101.95  3,101.52  3,590.70  2,025.70  1,70,973  53,02,75,810.25   \n",
       "2  3,094.85  3,108.01  3,590.70  2,025.70  1,71,432  53,28,12,144.55   \n",
       "3  3,105.60  3,112.41  3,590.70  2,025.70  1,95,002  60,69,25,937.50   \n",
       "4  3,102.40  3,121.00  3,590.70  2,024.65  2,23,405  69,72,46,412.05   \n",
       "\n",
       "  No of trades   \n",
       "0        43,775  \n",
       "1        29,666  \n",
       "2        25,390  \n",
       "3        33,376  \n",
       "4        25,293  "
      ]
     },
     "execution_count": 4,
     "metadata": {},
     "output_type": "execute_result"
    }
   ],
   "source": [
    "df.head()"
   ]
  },
  {
   "cell_type": "code",
   "execution_count": 5,
   "metadata": {},
   "outputs": [
    {
     "data": {
      "text/plain": [
       "Index(['Date ', 'series ', 'OPEN ', 'HIGH ', 'LOW ', 'PREV. CLOSE ', 'ltp ',\n",
       "       'close ', 'vwap ', '52W H ', '52W L ', 'VOLUME ', 'VALUE ',\n",
       "       'No of trades '],\n",
       "      dtype='object')"
      ]
     },
     "execution_count": 5,
     "metadata": {},
     "output_type": "execute_result"
    }
   ],
   "source": [
    "df.tail()\n",
    "df.columns"
   ]
  },
  {
   "cell_type": "code",
   "execution_count": 6,
   "metadata": {},
   "outputs": [],
   "source": [
    "#df.to_csv('TorrentPharma5Year.csv', index=False, encoding='utf-8')"
   ]
  },
  {
   "cell_type": "code",
   "execution_count": 7,
   "metadata": {},
   "outputs": [],
   "source": [
    "df.isnull().sum()\n",
    "drop_cols = ['series ', 'OPEN ', 'HIGH ', 'LOW ', 'ltp ','52W H ', '52W L ', 'VOLUME ', 'VALUE ',\n",
    "       'No of trades ', 'vwap ']"
   ]
  },
  {
   "cell_type": "code",
   "execution_count": 8,
   "metadata": {},
   "outputs": [],
   "source": [
    "df = df.drop(columns= drop_cols)"
   ]
  },
  {
   "cell_type": "code",
   "execution_count": 9,
   "metadata": {},
   "outputs": [
    {
     "data": {
      "text/html": [
       "<div>\n",
       "<style scoped>\n",
       "    .dataframe tbody tr th:only-of-type {\n",
       "        vertical-align: middle;\n",
       "    }\n",
       "\n",
       "    .dataframe tbody tr th {\n",
       "        vertical-align: top;\n",
       "    }\n",
       "\n",
       "    .dataframe thead th {\n",
       "        text-align: right;\n",
       "    }\n",
       "</style>\n",
       "<table border=\"1\" class=\"dataframe\">\n",
       "  <thead>\n",
       "    <tr style=\"text-align: right;\">\n",
       "      <th></th>\n",
       "      <th>Date</th>\n",
       "      <th>PREV. CLOSE</th>\n",
       "      <th>close</th>\n",
       "    </tr>\n",
       "  </thead>\n",
       "  <tbody>\n",
       "    <tr>\n",
       "      <th>0</th>\n",
       "      <td>22-Nov-2024</td>\n",
       "      <td>3,101.95</td>\n",
       "      <td>3,167.10</td>\n",
       "    </tr>\n",
       "    <tr>\n",
       "      <th>1</th>\n",
       "      <td>21-Nov-2024</td>\n",
       "      <td>3,094.85</td>\n",
       "      <td>3,101.95</td>\n",
       "    </tr>\n",
       "    <tr>\n",
       "      <th>2</th>\n",
       "      <td>19-Nov-2024</td>\n",
       "      <td>3,105.60</td>\n",
       "      <td>3,094.85</td>\n",
       "    </tr>\n",
       "    <tr>\n",
       "      <th>3</th>\n",
       "      <td>18-Nov-2024</td>\n",
       "      <td>3,102.40</td>\n",
       "      <td>3,105.60</td>\n",
       "    </tr>\n",
       "    <tr>\n",
       "      <th>4</th>\n",
       "      <td>14-Nov-2024</td>\n",
       "      <td>3,116.60</td>\n",
       "      <td>3,102.40</td>\n",
       "    </tr>\n",
       "  </tbody>\n",
       "</table>\n",
       "</div>"
      ],
      "text/plain": [
       "         Date  PREV. CLOSE     close \n",
       "0  22-Nov-2024     3,101.95  3,167.10\n",
       "1  21-Nov-2024     3,094.85  3,101.95\n",
       "2  19-Nov-2024     3,105.60  3,094.85\n",
       "3  18-Nov-2024     3,102.40  3,105.60\n",
       "4  14-Nov-2024     3,116.60  3,102.40"
      ]
     },
     "execution_count": 9,
     "metadata": {},
     "output_type": "execute_result"
    }
   ],
   "source": [
    "df.head()\n"
   ]
  },
  {
   "cell_type": "code",
   "execution_count": 10,
   "metadata": {},
   "outputs": [
    {
     "data": {
      "text/html": [
       "<div>\n",
       "<style scoped>\n",
       "    .dataframe tbody tr th:only-of-type {\n",
       "        vertical-align: middle;\n",
       "    }\n",
       "\n",
       "    .dataframe tbody tr th {\n",
       "        vertical-align: top;\n",
       "    }\n",
       "\n",
       "    .dataframe thead th {\n",
       "        text-align: right;\n",
       "    }\n",
       "</style>\n",
       "<table border=\"1\" class=\"dataframe\">\n",
       "  <thead>\n",
       "    <tr style=\"text-align: right;\">\n",
       "      <th></th>\n",
       "      <th>Date</th>\n",
       "      <th>PREV. CLOSE</th>\n",
       "      <th>close</th>\n",
       "    </tr>\n",
       "  </thead>\n",
       "  <tbody>\n",
       "    <tr>\n",
       "      <th>count</th>\n",
       "      <td>1257</td>\n",
       "      <td>1257</td>\n",
       "      <td>1257</td>\n",
       "    </tr>\n",
       "    <tr>\n",
       "      <th>unique</th>\n",
       "      <td>1243</td>\n",
       "      <td>1219</td>\n",
       "      <td>1219</td>\n",
       "    </tr>\n",
       "    <tr>\n",
       "      <th>top</th>\n",
       "      <td>04-Mar-2020</td>\n",
       "      <td>2,145.75</td>\n",
       "      <td>2,183.15</td>\n",
       "    </tr>\n",
       "    <tr>\n",
       "      <th>freq</th>\n",
       "      <td>6</td>\n",
       "      <td>6</td>\n",
       "      <td>6</td>\n",
       "    </tr>\n",
       "  </tbody>\n",
       "</table>\n",
       "</div>"
      ],
      "text/plain": [
       "              Date  PREV. CLOSE     close \n",
       "count          1257         1257      1257\n",
       "unique         1243         1219      1219\n",
       "top     04-Mar-2020     2,145.75  2,183.15\n",
       "freq              6            6         6"
      ]
     },
     "execution_count": 10,
     "metadata": {},
     "output_type": "execute_result"
    }
   ],
   "source": [
    "df.describe()"
   ]
  },
  {
   "cell_type": "code",
   "execution_count": 11,
   "metadata": {},
   "outputs": [
    {
     "data": {
      "text/plain": [
       "Date            object\n",
       "PREV. CLOSE     object\n",
       "close           object\n",
       "dtype: object"
      ]
     },
     "execution_count": 11,
     "metadata": {},
     "output_type": "execute_result"
    }
   ],
   "source": [
    "df.dtypes"
   ]
  },
  {
   "cell_type": "code",
   "execution_count": 12,
   "metadata": {},
   "outputs": [],
   "source": [
    "df['Date '] = pd.to_datetime(df['Date '], errors='coerce')"
   ]
  },
  {
   "cell_type": "code",
   "execution_count": 13,
   "metadata": {},
   "outputs": [
    {
     "data": {
      "text/html": [
       "<div>\n",
       "<style scoped>\n",
       "    .dataframe tbody tr th:only-of-type {\n",
       "        vertical-align: middle;\n",
       "    }\n",
       "\n",
       "    .dataframe tbody tr th {\n",
       "        vertical-align: top;\n",
       "    }\n",
       "\n",
       "    .dataframe thead th {\n",
       "        text-align: right;\n",
       "    }\n",
       "</style>\n",
       "<table border=\"1\" class=\"dataframe\">\n",
       "  <thead>\n",
       "    <tr style=\"text-align: right;\">\n",
       "      <th></th>\n",
       "      <th>Date</th>\n",
       "      <th>PREV. CLOSE</th>\n",
       "      <th>close</th>\n",
       "    </tr>\n",
       "  </thead>\n",
       "  <tbody>\n",
       "    <tr>\n",
       "      <th>0</th>\n",
       "      <td>2024-11-22</td>\n",
       "      <td>3,101.95</td>\n",
       "      <td>3,167.10</td>\n",
       "    </tr>\n",
       "    <tr>\n",
       "      <th>1</th>\n",
       "      <td>2024-11-21</td>\n",
       "      <td>3,094.85</td>\n",
       "      <td>3,101.95</td>\n",
       "    </tr>\n",
       "    <tr>\n",
       "      <th>2</th>\n",
       "      <td>2024-11-19</td>\n",
       "      <td>3,105.60</td>\n",
       "      <td>3,094.85</td>\n",
       "    </tr>\n",
       "    <tr>\n",
       "      <th>3</th>\n",
       "      <td>2024-11-18</td>\n",
       "      <td>3,102.40</td>\n",
       "      <td>3,105.60</td>\n",
       "    </tr>\n",
       "    <tr>\n",
       "      <th>4</th>\n",
       "      <td>2024-11-14</td>\n",
       "      <td>3,116.60</td>\n",
       "      <td>3,102.40</td>\n",
       "    </tr>\n",
       "  </tbody>\n",
       "</table>\n",
       "</div>"
      ],
      "text/plain": [
       "       Date  PREV. CLOSE     close \n",
       "0 2024-11-22     3,101.95  3,167.10\n",
       "1 2024-11-21     3,094.85  3,101.95\n",
       "2 2024-11-19     3,105.60  3,094.85\n",
       "3 2024-11-18     3,102.40  3,105.60\n",
       "4 2024-11-14     3,116.60  3,102.40"
      ]
     },
     "execution_count": 13,
     "metadata": {},
     "output_type": "execute_result"
    }
   ],
   "source": [
    "df.head()"
   ]
  },
  {
   "cell_type": "code",
   "execution_count": 14,
   "metadata": {},
   "outputs": [
    {
     "data": {
      "text/plain": [
       "(1257, 3)"
      ]
     },
     "execution_count": 14,
     "metadata": {},
     "output_type": "execute_result"
    }
   ],
   "source": [
    "df.shape"
   ]
  },
  {
   "cell_type": "code",
   "execution_count": 15,
   "metadata": {},
   "outputs": [
    {
     "data": {
      "text/html": [
       "<div>\n",
       "<style scoped>\n",
       "    .dataframe tbody tr th:only-of-type {\n",
       "        vertical-align: middle;\n",
       "    }\n",
       "\n",
       "    .dataframe tbody tr th {\n",
       "        vertical-align: top;\n",
       "    }\n",
       "\n",
       "    .dataframe thead th {\n",
       "        text-align: right;\n",
       "    }\n",
       "</style>\n",
       "<table border=\"1\" class=\"dataframe\">\n",
       "  <thead>\n",
       "    <tr style=\"text-align: right;\">\n",
       "      <th></th>\n",
       "      <th>Date</th>\n",
       "      <th>PREV. CLOSE</th>\n",
       "      <th>close</th>\n",
       "    </tr>\n",
       "  </thead>\n",
       "  <tbody>\n",
       "    <tr>\n",
       "      <th>1252</th>\n",
       "      <td>2019-11-29</td>\n",
       "      <td>1,883.85</td>\n",
       "      <td>1,898.60</td>\n",
       "    </tr>\n",
       "    <tr>\n",
       "      <th>1253</th>\n",
       "      <td>2019-11-28</td>\n",
       "      <td>1,874.25</td>\n",
       "      <td>1,883.85</td>\n",
       "    </tr>\n",
       "    <tr>\n",
       "      <th>1254</th>\n",
       "      <td>2019-11-27</td>\n",
       "      <td>1,788.10</td>\n",
       "      <td>1,874.25</td>\n",
       "    </tr>\n",
       "    <tr>\n",
       "      <th>1255</th>\n",
       "      <td>2019-11-26</td>\n",
       "      <td>1,760.10</td>\n",
       "      <td>1,788.10</td>\n",
       "    </tr>\n",
       "    <tr>\n",
       "      <th>1256</th>\n",
       "      <td>2019-11-25</td>\n",
       "      <td>1,711.85</td>\n",
       "      <td>1,760.10</td>\n",
       "    </tr>\n",
       "  </tbody>\n",
       "</table>\n",
       "</div>"
      ],
      "text/plain": [
       "          Date  PREV. CLOSE     close \n",
       "1252 2019-11-29     1,883.85  1,898.60\n",
       "1253 2019-11-28     1,874.25  1,883.85\n",
       "1254 2019-11-27     1,788.10  1,874.25\n",
       "1255 2019-11-26     1,760.10  1,788.10\n",
       "1256 2019-11-25     1,711.85  1,760.10"
      ]
     },
     "execution_count": 15,
     "metadata": {},
     "output_type": "execute_result"
    }
   ],
   "source": [
    "df.tail()"
   ]
  },
  {
   "cell_type": "code",
   "execution_count": 16,
   "metadata": {},
   "outputs": [],
   "source": [
    "list_nifty = [r\"C:\\Users\\soura\\Downloads\\freecodecamp-intro-to-numpy-master\\Python-Elective\\NIFTY 50-25-11-2019-to-24-11-2020.csv\",r\"C:\\Users\\soura\\Downloads\\freecodecamp-intro-to-numpy-master\\Python-Elective\\NIFTY 50-25-11-2020-to-24-11-2021.csv\",r\"C:\\Users\\soura\\Downloads\\freecodecamp-intro-to-numpy-master\\Python-Elective\\NIFTY 50-25-11-2021-to-24-11-2022.csv\",r\"C:\\Users\\soura\\Downloads\\freecodecamp-intro-to-numpy-master\\Python-Elective\\NIFTY 50-25-11-2022-to-24-11-2023.csv\",r\"C:\\Users\\soura\\Downloads\\freecodecamp-intro-to-numpy-master\\Python-Elective\\NIFTY 50-25-11-2023-to-22-11-2024.csv\"]"
   ]
  },
  {
   "cell_type": "code",
   "execution_count": 17,
   "metadata": {},
   "outputs": [
    {
     "data": {
      "text/plain": [
       "(1243, 7)"
      ]
     },
     "execution_count": 17,
     "metadata": {},
     "output_type": "execute_result"
    }
   ],
   "source": [
    "df_Nifty = pd.concat( \n",
    "    map(pd.read_csv, list_nifty), ignore_index=True) \n",
    "df_Nifty.shape"
   ]
  },
  {
   "cell_type": "code",
   "execution_count": 18,
   "metadata": {},
   "outputs": [
    {
     "data": {
      "text/html": [
       "<div>\n",
       "<style scoped>\n",
       "    .dataframe tbody tr th:only-of-type {\n",
       "        vertical-align: middle;\n",
       "    }\n",
       "\n",
       "    .dataframe tbody tr th {\n",
       "        vertical-align: top;\n",
       "    }\n",
       "\n",
       "    .dataframe thead th {\n",
       "        text-align: right;\n",
       "    }\n",
       "</style>\n",
       "<table border=\"1\" class=\"dataframe\">\n",
       "  <thead>\n",
       "    <tr style=\"text-align: right;\">\n",
       "      <th></th>\n",
       "      <th>Date</th>\n",
       "      <th>Open</th>\n",
       "      <th>High</th>\n",
       "      <th>Low</th>\n",
       "      <th>Close</th>\n",
       "      <th>Shares Traded</th>\n",
       "      <th>Turnover (₹ Cr)</th>\n",
       "    </tr>\n",
       "  </thead>\n",
       "  <tbody>\n",
       "    <tr>\n",
       "      <th>0</th>\n",
       "      <td>25-NOV-2019</td>\n",
       "      <td>11922.45</td>\n",
       "      <td>12084.50</td>\n",
       "      <td>11919.75</td>\n",
       "      <td>12073.75</td>\n",
       "      <td>5.342895e+08</td>\n",
       "      <td>19990.44</td>\n",
       "    </tr>\n",
       "    <tr>\n",
       "      <th>1</th>\n",
       "      <td>26-NOV-2019</td>\n",
       "      <td>12110.20</td>\n",
       "      <td>12132.45</td>\n",
       "      <td>12006.35</td>\n",
       "      <td>12037.70</td>\n",
       "      <td>1.201336e+09</td>\n",
       "      <td>46030.62</td>\n",
       "    </tr>\n",
       "    <tr>\n",
       "      <th>2</th>\n",
       "      <td>27-NOV-2019</td>\n",
       "      <td>12068.50</td>\n",
       "      <td>12114.90</td>\n",
       "      <td>12055.15</td>\n",
       "      <td>12100.70</td>\n",
       "      <td>5.842266e+08</td>\n",
       "      <td>19937.40</td>\n",
       "    </tr>\n",
       "    <tr>\n",
       "      <th>3</th>\n",
       "      <td>28-NOV-2019</td>\n",
       "      <td>12132.10</td>\n",
       "      <td>12158.80</td>\n",
       "      <td>12099.95</td>\n",
       "      <td>12151.15</td>\n",
       "      <td>6.204794e+08</td>\n",
       "      <td>21229.58</td>\n",
       "    </tr>\n",
       "    <tr>\n",
       "      <th>4</th>\n",
       "      <td>29-NOV-2019</td>\n",
       "      <td>12146.20</td>\n",
       "      <td>12147.40</td>\n",
       "      <td>12017.40</td>\n",
       "      <td>12056.05</td>\n",
       "      <td>8.044304e+08</td>\n",
       "      <td>21838.04</td>\n",
       "    </tr>\n",
       "  </tbody>\n",
       "</table>\n",
       "</div>"
      ],
      "text/plain": [
       "         Date      Open      High       Low     Close   Shares Traded   \\\n",
       "0  25-NOV-2019  11922.45  12084.50  11919.75  12073.75    5.342895e+08   \n",
       "1  26-NOV-2019  12110.20  12132.45  12006.35  12037.70    1.201336e+09   \n",
       "2  27-NOV-2019  12068.50  12114.90  12055.15  12100.70    5.842266e+08   \n",
       "3  28-NOV-2019  12132.10  12158.80  12099.95  12151.15    6.204794e+08   \n",
       "4  29-NOV-2019  12146.20  12147.40  12017.40  12056.05    8.044304e+08   \n",
       "\n",
       "   Turnover (₹ Cr)  \n",
       "0         19990.44  \n",
       "1         46030.62  \n",
       "2         19937.40  \n",
       "3         21229.58  \n",
       "4         21838.04  "
      ]
     },
     "execution_count": 18,
     "metadata": {},
     "output_type": "execute_result"
    }
   ],
   "source": [
    "df_Nifty.head()"
   ]
  },
  {
   "cell_type": "code",
   "execution_count": 21,
   "metadata": {},
   "outputs": [],
   "source": [
    "df_Nifty.columns\n",
    "drop_cols_Nifty = ['High ', 'Low ', 'Shares Traded ',\n",
    "       'Turnover (₹ Cr)']"
   ]
  },
  {
   "cell_type": "code",
   "execution_count": 22,
   "metadata": {},
   "outputs": [],
   "source": [
    "df_Nifty = df_Nifty.drop(columns= drop_cols_Nifty)"
   ]
  },
  {
   "cell_type": "code",
   "execution_count": 23,
   "metadata": {},
   "outputs": [
    {
     "data": {
      "text/html": [
       "<div>\n",
       "<style scoped>\n",
       "    .dataframe tbody tr th:only-of-type {\n",
       "        vertical-align: middle;\n",
       "    }\n",
       "\n",
       "    .dataframe tbody tr th {\n",
       "        vertical-align: top;\n",
       "    }\n",
       "\n",
       "    .dataframe thead th {\n",
       "        text-align: right;\n",
       "    }\n",
       "</style>\n",
       "<table border=\"1\" class=\"dataframe\">\n",
       "  <thead>\n",
       "    <tr style=\"text-align: right;\">\n",
       "      <th></th>\n",
       "      <th>Date</th>\n",
       "      <th>Open</th>\n",
       "      <th>Close</th>\n",
       "    </tr>\n",
       "  </thead>\n",
       "  <tbody>\n",
       "    <tr>\n",
       "      <th>0</th>\n",
       "      <td>25-NOV-2019</td>\n",
       "      <td>11922.45</td>\n",
       "      <td>12073.75</td>\n",
       "    </tr>\n",
       "    <tr>\n",
       "      <th>1</th>\n",
       "      <td>26-NOV-2019</td>\n",
       "      <td>12110.20</td>\n",
       "      <td>12037.70</td>\n",
       "    </tr>\n",
       "    <tr>\n",
       "      <th>2</th>\n",
       "      <td>27-NOV-2019</td>\n",
       "      <td>12068.50</td>\n",
       "      <td>12100.70</td>\n",
       "    </tr>\n",
       "    <tr>\n",
       "      <th>3</th>\n",
       "      <td>28-NOV-2019</td>\n",
       "      <td>12132.10</td>\n",
       "      <td>12151.15</td>\n",
       "    </tr>\n",
       "    <tr>\n",
       "      <th>4</th>\n",
       "      <td>29-NOV-2019</td>\n",
       "      <td>12146.20</td>\n",
       "      <td>12056.05</td>\n",
       "    </tr>\n",
       "  </tbody>\n",
       "</table>\n",
       "</div>"
      ],
      "text/plain": [
       "         Date      Open     Close \n",
       "0  25-NOV-2019  11922.45  12073.75\n",
       "1  26-NOV-2019  12110.20  12037.70\n",
       "2  27-NOV-2019  12068.50  12100.70\n",
       "3  28-NOV-2019  12132.10  12151.15\n",
       "4  29-NOV-2019  12146.20  12056.05"
      ]
     },
     "execution_count": 23,
     "metadata": {},
     "output_type": "execute_result"
    }
   ],
   "source": [
    "df_Nifty.head()"
   ]
  },
  {
   "cell_type": "code",
   "execution_count": 24,
   "metadata": {},
   "outputs": [],
   "source": [
    "df_Nifty['Date '] = pd.to_datetime(df_Nifty['Date '], errors='coerce', format='%d-%b-%Y')"
   ]
  },
  {
   "cell_type": "code",
   "execution_count": 25,
   "metadata": {},
   "outputs": [
    {
     "data": {
      "text/plain": [
       "Date      datetime64[ns]\n",
       "Open             float64\n",
       "Close            float64\n",
       "dtype: object"
      ]
     },
     "execution_count": 25,
     "metadata": {},
     "output_type": "execute_result"
    }
   ],
   "source": [
    "df_Nifty.dtypes"
   ]
  },
  {
   "cell_type": "code",
   "execution_count": 26,
   "metadata": {},
   "outputs": [
    {
     "data": {
      "text/html": [
       "<div>\n",
       "<style scoped>\n",
       "    .dataframe tbody tr th:only-of-type {\n",
       "        vertical-align: middle;\n",
       "    }\n",
       "\n",
       "    .dataframe tbody tr th {\n",
       "        vertical-align: top;\n",
       "    }\n",
       "\n",
       "    .dataframe thead th {\n",
       "        text-align: right;\n",
       "    }\n",
       "</style>\n",
       "<table border=\"1\" class=\"dataframe\">\n",
       "  <thead>\n",
       "    <tr style=\"text-align: right;\">\n",
       "      <th></th>\n",
       "      <th>Date</th>\n",
       "      <th>Open</th>\n",
       "      <th>Close</th>\n",
       "    </tr>\n",
       "  </thead>\n",
       "  <tbody>\n",
       "    <tr>\n",
       "      <th>0</th>\n",
       "      <td>2019-11-25</td>\n",
       "      <td>11922.45</td>\n",
       "      <td>12073.75</td>\n",
       "    </tr>\n",
       "    <tr>\n",
       "      <th>1</th>\n",
       "      <td>2019-11-26</td>\n",
       "      <td>12110.20</td>\n",
       "      <td>12037.70</td>\n",
       "    </tr>\n",
       "    <tr>\n",
       "      <th>2</th>\n",
       "      <td>2019-11-27</td>\n",
       "      <td>12068.50</td>\n",
       "      <td>12100.70</td>\n",
       "    </tr>\n",
       "    <tr>\n",
       "      <th>3</th>\n",
       "      <td>2019-11-28</td>\n",
       "      <td>12132.10</td>\n",
       "      <td>12151.15</td>\n",
       "    </tr>\n",
       "    <tr>\n",
       "      <th>4</th>\n",
       "      <td>2019-11-29</td>\n",
       "      <td>12146.20</td>\n",
       "      <td>12056.05</td>\n",
       "    </tr>\n",
       "  </tbody>\n",
       "</table>\n",
       "</div>"
      ],
      "text/plain": [
       "       Date      Open     Close \n",
       "0 2019-11-25  11922.45  12073.75\n",
       "1 2019-11-26  12110.20  12037.70\n",
       "2 2019-11-27  12068.50  12100.70\n",
       "3 2019-11-28  12132.10  12151.15\n",
       "4 2019-11-29  12146.20  12056.05"
      ]
     },
     "execution_count": 26,
     "metadata": {},
     "output_type": "execute_result"
    }
   ],
   "source": [
    "df_Nifty.head()"
   ]
  },
  {
   "cell_type": "code",
   "execution_count": 28,
   "metadata": {},
   "outputs": [
    {
     "data": {
      "text/html": [
       "<div>\n",
       "<style scoped>\n",
       "    .dataframe tbody tr th:only-of-type {\n",
       "        vertical-align: middle;\n",
       "    }\n",
       "\n",
       "    .dataframe tbody tr th {\n",
       "        vertical-align: top;\n",
       "    }\n",
       "\n",
       "    .dataframe thead th {\n",
       "        text-align: right;\n",
       "    }\n",
       "</style>\n",
       "<table border=\"1\" class=\"dataframe\">\n",
       "  <thead>\n",
       "    <tr style=\"text-align: right;\">\n",
       "      <th></th>\n",
       "      <th>Date</th>\n",
       "      <th>Open</th>\n",
       "      <th>Close</th>\n",
       "    </tr>\n",
       "  </thead>\n",
       "  <tbody>\n",
       "    <tr>\n",
       "      <th>1238</th>\n",
       "      <td>2024-11-14</td>\n",
       "      <td>23542.15</td>\n",
       "      <td>23532.70</td>\n",
       "    </tr>\n",
       "    <tr>\n",
       "      <th>1239</th>\n",
       "      <td>2024-11-18</td>\n",
       "      <td>23605.30</td>\n",
       "      <td>23453.80</td>\n",
       "    </tr>\n",
       "    <tr>\n",
       "      <th>1240</th>\n",
       "      <td>2024-11-19</td>\n",
       "      <td>23529.55</td>\n",
       "      <td>23518.50</td>\n",
       "    </tr>\n",
       "    <tr>\n",
       "      <th>1241</th>\n",
       "      <td>2024-11-21</td>\n",
       "      <td>23488.45</td>\n",
       "      <td>23349.90</td>\n",
       "    </tr>\n",
       "    <tr>\n",
       "      <th>1242</th>\n",
       "      <td>2024-11-22</td>\n",
       "      <td>23411.80</td>\n",
       "      <td>23907.25</td>\n",
       "    </tr>\n",
       "  </tbody>\n",
       "</table>\n",
       "</div>"
      ],
      "text/plain": [
       "          Date      Open     Close \n",
       "1238 2024-11-14  23542.15  23532.70\n",
       "1239 2024-11-18  23605.30  23453.80\n",
       "1240 2024-11-19  23529.55  23518.50\n",
       "1241 2024-11-21  23488.45  23349.90\n",
       "1242 2024-11-22  23411.80  23907.25"
      ]
     },
     "execution_count": 28,
     "metadata": {},
     "output_type": "execute_result"
    }
   ],
   "source": [
    "df_Nifty.tail()"
   ]
  },
  {
   "cell_type": "code",
   "execution_count": 30,
   "metadata": {},
   "outputs": [],
   "source": [
    "df_Nifty = df_Nifty.sort_values(by='Date ', ascending=False).reset_index(drop=True)"
   ]
  },
  {
   "cell_type": "code",
   "execution_count": 31,
   "metadata": {},
   "outputs": [
    {
     "data": {
      "text/html": [
       "<div>\n",
       "<style scoped>\n",
       "    .dataframe tbody tr th:only-of-type {\n",
       "        vertical-align: middle;\n",
       "    }\n",
       "\n",
       "    .dataframe tbody tr th {\n",
       "        vertical-align: top;\n",
       "    }\n",
       "\n",
       "    .dataframe thead th {\n",
       "        text-align: right;\n",
       "    }\n",
       "</style>\n",
       "<table border=\"1\" class=\"dataframe\">\n",
       "  <thead>\n",
       "    <tr style=\"text-align: right;\">\n",
       "      <th></th>\n",
       "      <th>Date</th>\n",
       "      <th>Open</th>\n",
       "      <th>Close</th>\n",
       "    </tr>\n",
       "  </thead>\n",
       "  <tbody>\n",
       "    <tr>\n",
       "      <th>0</th>\n",
       "      <td>2024-11-22</td>\n",
       "      <td>23411.80</td>\n",
       "      <td>23907.25</td>\n",
       "    </tr>\n",
       "    <tr>\n",
       "      <th>1</th>\n",
       "      <td>2024-11-21</td>\n",
       "      <td>23488.45</td>\n",
       "      <td>23349.90</td>\n",
       "    </tr>\n",
       "    <tr>\n",
       "      <th>2</th>\n",
       "      <td>2024-11-19</td>\n",
       "      <td>23529.55</td>\n",
       "      <td>23518.50</td>\n",
       "    </tr>\n",
       "    <tr>\n",
       "      <th>3</th>\n",
       "      <td>2024-11-18</td>\n",
       "      <td>23605.30</td>\n",
       "      <td>23453.80</td>\n",
       "    </tr>\n",
       "    <tr>\n",
       "      <th>4</th>\n",
       "      <td>2024-11-14</td>\n",
       "      <td>23542.15</td>\n",
       "      <td>23532.70</td>\n",
       "    </tr>\n",
       "  </tbody>\n",
       "</table>\n",
       "</div>"
      ],
      "text/plain": [
       "       Date      Open     Close \n",
       "0 2024-11-22  23411.80  23907.25\n",
       "1 2024-11-21  23488.45  23349.90\n",
       "2 2024-11-19  23529.55  23518.50\n",
       "3 2024-11-18  23605.30  23453.80\n",
       "4 2024-11-14  23542.15  23532.70"
      ]
     },
     "execution_count": 31,
     "metadata": {},
     "output_type": "execute_result"
    }
   ],
   "source": [
    "df_Nifty.head()"
   ]
  },
  {
   "cell_type": "code",
   "execution_count": null,
   "metadata": {},
   "outputs": [
    {
     "data": {
      "text/plain": [
       "(1257, 3)"
      ]
     },
     "execution_count": 39,
     "metadata": {},
     "output_type": "execute_result"
    }
   ],
   "source": [
    "df.drop_duplicates"
   ]
  },
  {
   "cell_type": "code",
   "execution_count": 35,
   "metadata": {},
   "outputs": [],
   "source": [
    "# Identify unique dates in both DataFrames\n",
    "dates_pharma = set(df['Date '])\n",
    "dates_nifty = set(df_Nifty['Date '])\n",
    "\n",
    "# Compare the sets of dates to find missing dates\n",
    "missing_dates_in_pharma = dates_nifty - dates_pharma\n",
    "missing_dates_in_nifty = dates_pharma - dates_nifty"
   ]
  },
  {
   "cell_type": "code",
   "execution_count": 38,
   "metadata": {},
   "outputs": [
    {
     "name": "stdout",
     "output_type": "stream",
     "text": [
      "Missing dates in Pharma: 1243\n",
      "Missing dates in Nifty: 1243\n"
     ]
    }
   ],
   "source": [
    "print(\"Missing dates in Pharma:\", len(dates_pharma))\n",
    "print(\"Missing dates in Nifty:\", len(dates_nifty))"
   ]
  },
  {
   "cell_type": "code",
   "execution_count": 40,
   "metadata": {},
   "outputs": [
    {
     "name": "stdout",
     "output_type": "stream",
     "text": [
      "          Date  PREV. CLOSE     close \n",
      "1171 2020-03-04     2,145.75  2,183.15\n",
      "1172 2020-03-04     2,145.75  2,183.15\n",
      "1173 2020-03-04     2,145.75  2,183.15\n",
      "1174 2020-03-04     2,145.75  2,183.15\n",
      "1175 2020-03-04     2,145.75  2,183.15\n",
      "1176 2020-03-04     2,145.75  2,183.15\n",
      "1177 2020-03-03     2,127.25  2,145.75\n",
      "1178 2020-03-03     2,127.25  2,145.75\n",
      "1179 2020-03-03     2,127.25  2,145.75\n",
      "1180 2020-03-03     2,127.25  2,145.75\n",
      "1181 2020-03-03     2,127.25  2,145.75\n",
      "1182 2020-03-03     2,127.25  2,145.75\n",
      "1190 2020-02-19     2,131.90  2,242.15\n",
      "1191 2020-02-19     2,131.90  2,242.15\n",
      "1192 2020-02-19     2,131.90  2,242.15\n",
      "1193 2020-02-19     2,131.90  2,242.15\n",
      "1194 2020-02-19     2,131.90  2,242.15\n"
     ]
    }
   ],
   "source": [
    "# Check for duplicate dates\n",
    "duplicates = df[df.duplicated(subset='Date ', keep=False)]\n",
    "print(duplicates)"
   ]
  },
  {
   "cell_type": "code",
   "execution_count": 41,
   "metadata": {},
   "outputs": [],
   "source": [
    "df = df.drop_duplicates(subset='Date ', keep='first')"
   ]
  },
  {
   "cell_type": "code",
   "execution_count": 42,
   "metadata": {},
   "outputs": [
    {
     "data": {
      "text/plain": [
       "(1243, 3)"
      ]
     },
     "execution_count": 42,
     "metadata": {},
     "output_type": "execute_result"
    }
   ],
   "source": [
    "df.shape"
   ]
  },
  {
   "cell_type": "code",
   "execution_count": 43,
   "metadata": {},
   "outputs": [
    {
     "data": {
      "text/plain": [
       "(1243, 3)"
      ]
     },
     "execution_count": 43,
     "metadata": {},
     "output_type": "execute_result"
    }
   ],
   "source": [
    "df_Nifty.shape"
   ]
  },
  {
   "cell_type": "code",
   "execution_count": 44,
   "metadata": {},
   "outputs": [
    {
     "data": {
      "text/html": [
       "<div>\n",
       "<style scoped>\n",
       "    .dataframe tbody tr th:only-of-type {\n",
       "        vertical-align: middle;\n",
       "    }\n",
       "\n",
       "    .dataframe tbody tr th {\n",
       "        vertical-align: top;\n",
       "    }\n",
       "\n",
       "    .dataframe thead th {\n",
       "        text-align: right;\n",
       "    }\n",
       "</style>\n",
       "<table border=\"1\" class=\"dataframe\">\n",
       "  <thead>\n",
       "    <tr style=\"text-align: right;\">\n",
       "      <th></th>\n",
       "      <th>Date</th>\n",
       "      <th>PREV. CLOSE</th>\n",
       "      <th>close</th>\n",
       "    </tr>\n",
       "  </thead>\n",
       "  <tbody>\n",
       "    <tr>\n",
       "      <th>0</th>\n",
       "      <td>2024-11-22</td>\n",
       "      <td>3,101.95</td>\n",
       "      <td>3,167.10</td>\n",
       "    </tr>\n",
       "    <tr>\n",
       "      <th>1</th>\n",
       "      <td>2024-11-21</td>\n",
       "      <td>3,094.85</td>\n",
       "      <td>3,101.95</td>\n",
       "    </tr>\n",
       "    <tr>\n",
       "      <th>2</th>\n",
       "      <td>2024-11-19</td>\n",
       "      <td>3,105.60</td>\n",
       "      <td>3,094.85</td>\n",
       "    </tr>\n",
       "    <tr>\n",
       "      <th>3</th>\n",
       "      <td>2024-11-18</td>\n",
       "      <td>3,102.40</td>\n",
       "      <td>3,105.60</td>\n",
       "    </tr>\n",
       "    <tr>\n",
       "      <th>4</th>\n",
       "      <td>2024-11-14</td>\n",
       "      <td>3,116.60</td>\n",
       "      <td>3,102.40</td>\n",
       "    </tr>\n",
       "  </tbody>\n",
       "</table>\n",
       "</div>"
      ],
      "text/plain": [
       "       Date  PREV. CLOSE     close \n",
       "0 2024-11-22     3,101.95  3,167.10\n",
       "1 2024-11-21     3,094.85  3,101.95\n",
       "2 2024-11-19     3,105.60  3,094.85\n",
       "3 2024-11-18     3,102.40  3,105.60\n",
       "4 2024-11-14     3,116.60  3,102.40"
      ]
     },
     "execution_count": 44,
     "metadata": {},
     "output_type": "execute_result"
    }
   ],
   "source": [
    "df.head()"
   ]
  },
  {
   "cell_type": "code",
   "execution_count": 45,
   "metadata": {},
   "outputs": [
    {
     "data": {
      "text/plain": [
       "Index(['Date ', 'PREV. CLOSE ', 'close '], dtype='object')"
      ]
     },
     "execution_count": 45,
     "metadata": {},
     "output_type": "execute_result"
    }
   ],
   "source": [
    "df.columns"
   ]
  },
  {
   "cell_type": "code",
   "execution_count": 47,
   "metadata": {},
   "outputs": [],
   "source": [
    "# Remove commas and convert to numeric with error handling\n",
    "df['PREV. CLOSE '] = pd.to_numeric(df['PREV. CLOSE '].str.replace(',', ''), errors='coerce')\n",
    "\n"
   ]
  },
  {
   "cell_type": "code",
   "execution_count": 49,
   "metadata": {},
   "outputs": [],
   "source": [
    "# Remove commas and convert to numeric with error handling\n",
    "df['close '] = pd.to_numeric(df['close '].str.replace(',', ''), errors='coerce')\n",
    "\n"
   ]
  },
  {
   "cell_type": "code",
   "execution_count": 50,
   "metadata": {},
   "outputs": [
    {
     "data": {
      "text/html": [
       "<div>\n",
       "<style scoped>\n",
       "    .dataframe tbody tr th:only-of-type {\n",
       "        vertical-align: middle;\n",
       "    }\n",
       "\n",
       "    .dataframe tbody tr th {\n",
       "        vertical-align: top;\n",
       "    }\n",
       "\n",
       "    .dataframe thead th {\n",
       "        text-align: right;\n",
       "    }\n",
       "</style>\n",
       "<table border=\"1\" class=\"dataframe\">\n",
       "  <thead>\n",
       "    <tr style=\"text-align: right;\">\n",
       "      <th></th>\n",
       "      <th>Date</th>\n",
       "      <th>PREV. CLOSE</th>\n",
       "      <th>close</th>\n",
       "    </tr>\n",
       "  </thead>\n",
       "  <tbody>\n",
       "    <tr>\n",
       "      <th>0</th>\n",
       "      <td>2024-11-22</td>\n",
       "      <td>3101.95</td>\n",
       "      <td>3167.10</td>\n",
       "    </tr>\n",
       "    <tr>\n",
       "      <th>1</th>\n",
       "      <td>2024-11-21</td>\n",
       "      <td>3094.85</td>\n",
       "      <td>3101.95</td>\n",
       "    </tr>\n",
       "    <tr>\n",
       "      <th>2</th>\n",
       "      <td>2024-11-19</td>\n",
       "      <td>3105.60</td>\n",
       "      <td>3094.85</td>\n",
       "    </tr>\n",
       "    <tr>\n",
       "      <th>3</th>\n",
       "      <td>2024-11-18</td>\n",
       "      <td>3102.40</td>\n",
       "      <td>3105.60</td>\n",
       "    </tr>\n",
       "    <tr>\n",
       "      <th>4</th>\n",
       "      <td>2024-11-14</td>\n",
       "      <td>3116.60</td>\n",
       "      <td>3102.40</td>\n",
       "    </tr>\n",
       "  </tbody>\n",
       "</table>\n",
       "</div>"
      ],
      "text/plain": [
       "       Date   PREV. CLOSE    close \n",
       "0 2024-11-22       3101.95  3167.10\n",
       "1 2024-11-21       3094.85  3101.95\n",
       "2 2024-11-19       3105.60  3094.85\n",
       "3 2024-11-18       3102.40  3105.60\n",
       "4 2024-11-14       3116.60  3102.40"
      ]
     },
     "execution_count": 50,
     "metadata": {},
     "output_type": "execute_result"
    }
   ],
   "source": [
    "df.head()"
   ]
  },
  {
   "cell_type": "code",
   "execution_count": 51,
   "metadata": {},
   "outputs": [],
   "source": [
    "df['Daily Return %'] = (df['close '] - df['PREV. CLOSE '])*100/df['PREV. CLOSE ']"
   ]
  },
  {
   "cell_type": "code",
   "execution_count": 52,
   "metadata": {},
   "outputs": [
    {
     "data": {
      "text/html": [
       "<div>\n",
       "<style scoped>\n",
       "    .dataframe tbody tr th:only-of-type {\n",
       "        vertical-align: middle;\n",
       "    }\n",
       "\n",
       "    .dataframe tbody tr th {\n",
       "        vertical-align: top;\n",
       "    }\n",
       "\n",
       "    .dataframe thead th {\n",
       "        text-align: right;\n",
       "    }\n",
       "</style>\n",
       "<table border=\"1\" class=\"dataframe\">\n",
       "  <thead>\n",
       "    <tr style=\"text-align: right;\">\n",
       "      <th></th>\n",
       "      <th>Date</th>\n",
       "      <th>PREV. CLOSE</th>\n",
       "      <th>close</th>\n",
       "      <th>Daily Return %</th>\n",
       "    </tr>\n",
       "  </thead>\n",
       "  <tbody>\n",
       "    <tr>\n",
       "      <th>0</th>\n",
       "      <td>2024-11-22</td>\n",
       "      <td>3101.95</td>\n",
       "      <td>3167.10</td>\n",
       "      <td>2.100292</td>\n",
       "    </tr>\n",
       "    <tr>\n",
       "      <th>1</th>\n",
       "      <td>2024-11-21</td>\n",
       "      <td>3094.85</td>\n",
       "      <td>3101.95</td>\n",
       "      <td>0.229413</td>\n",
       "    </tr>\n",
       "    <tr>\n",
       "      <th>2</th>\n",
       "      <td>2024-11-19</td>\n",
       "      <td>3105.60</td>\n",
       "      <td>3094.85</td>\n",
       "      <td>-0.346149</td>\n",
       "    </tr>\n",
       "    <tr>\n",
       "      <th>3</th>\n",
       "      <td>2024-11-18</td>\n",
       "      <td>3102.40</td>\n",
       "      <td>3105.60</td>\n",
       "      <td>0.103146</td>\n",
       "    </tr>\n",
       "    <tr>\n",
       "      <th>4</th>\n",
       "      <td>2024-11-14</td>\n",
       "      <td>3116.60</td>\n",
       "      <td>3102.40</td>\n",
       "      <td>-0.455625</td>\n",
       "    </tr>\n",
       "  </tbody>\n",
       "</table>\n",
       "</div>"
      ],
      "text/plain": [
       "       Date   PREV. CLOSE    close   Daily Return %\n",
       "0 2024-11-22       3101.95  3167.10        2.100292\n",
       "1 2024-11-21       3094.85  3101.95        0.229413\n",
       "2 2024-11-19       3105.60  3094.85       -0.346149\n",
       "3 2024-11-18       3102.40  3105.60        0.103146\n",
       "4 2024-11-14       3116.60  3102.40       -0.455625"
      ]
     },
     "execution_count": 52,
     "metadata": {},
     "output_type": "execute_result"
    }
   ],
   "source": [
    "df.head()"
   ]
  },
  {
   "cell_type": "code",
   "execution_count": 53,
   "metadata": {},
   "outputs": [
    {
     "data": {
      "text/html": [
       "<div>\n",
       "<style scoped>\n",
       "    .dataframe tbody tr th:only-of-type {\n",
       "        vertical-align: middle;\n",
       "    }\n",
       "\n",
       "    .dataframe tbody tr th {\n",
       "        vertical-align: top;\n",
       "    }\n",
       "\n",
       "    .dataframe thead th {\n",
       "        text-align: right;\n",
       "    }\n",
       "</style>\n",
       "<table border=\"1\" class=\"dataframe\">\n",
       "  <thead>\n",
       "    <tr style=\"text-align: right;\">\n",
       "      <th></th>\n",
       "      <th>Date</th>\n",
       "      <th>Open</th>\n",
       "      <th>Close</th>\n",
       "    </tr>\n",
       "  </thead>\n",
       "  <tbody>\n",
       "    <tr>\n",
       "      <th>0</th>\n",
       "      <td>2024-11-22</td>\n",
       "      <td>23411.80</td>\n",
       "      <td>23907.25</td>\n",
       "    </tr>\n",
       "    <tr>\n",
       "      <th>1</th>\n",
       "      <td>2024-11-21</td>\n",
       "      <td>23488.45</td>\n",
       "      <td>23349.90</td>\n",
       "    </tr>\n",
       "    <tr>\n",
       "      <th>2</th>\n",
       "      <td>2024-11-19</td>\n",
       "      <td>23529.55</td>\n",
       "      <td>23518.50</td>\n",
       "    </tr>\n",
       "    <tr>\n",
       "      <th>3</th>\n",
       "      <td>2024-11-18</td>\n",
       "      <td>23605.30</td>\n",
       "      <td>23453.80</td>\n",
       "    </tr>\n",
       "    <tr>\n",
       "      <th>4</th>\n",
       "      <td>2024-11-14</td>\n",
       "      <td>23542.15</td>\n",
       "      <td>23532.70</td>\n",
       "    </tr>\n",
       "  </tbody>\n",
       "</table>\n",
       "</div>"
      ],
      "text/plain": [
       "       Date      Open     Close \n",
       "0 2024-11-22  23411.80  23907.25\n",
       "1 2024-11-21  23488.45  23349.90\n",
       "2 2024-11-19  23529.55  23518.50\n",
       "3 2024-11-18  23605.30  23453.80\n",
       "4 2024-11-14  23542.15  23532.70"
      ]
     },
     "execution_count": 53,
     "metadata": {},
     "output_type": "execute_result"
    }
   ],
   "source": [
    "df_Nifty.head()"
   ]
  },
  {
   "cell_type": "code",
   "execution_count": 54,
   "metadata": {},
   "outputs": [],
   "source": [
    "df_Nifty['Daily Return %'] = (df_Nifty['Close '] - df_Nifty['Open '])*100/df_Nifty['Open ']"
   ]
  },
  {
   "cell_type": "code",
   "execution_count": 55,
   "metadata": {},
   "outputs": [
    {
     "data": {
      "text/html": [
       "<div>\n",
       "<style scoped>\n",
       "    .dataframe tbody tr th:only-of-type {\n",
       "        vertical-align: middle;\n",
       "    }\n",
       "\n",
       "    .dataframe tbody tr th {\n",
       "        vertical-align: top;\n",
       "    }\n",
       "\n",
       "    .dataframe thead th {\n",
       "        text-align: right;\n",
       "    }\n",
       "</style>\n",
       "<table border=\"1\" class=\"dataframe\">\n",
       "  <thead>\n",
       "    <tr style=\"text-align: right;\">\n",
       "      <th></th>\n",
       "      <th>Date</th>\n",
       "      <th>Open</th>\n",
       "      <th>Close</th>\n",
       "      <th>Daily Return %</th>\n",
       "    </tr>\n",
       "  </thead>\n",
       "  <tbody>\n",
       "    <tr>\n",
       "      <th>0</th>\n",
       "      <td>2024-11-22</td>\n",
       "      <td>23411.80</td>\n",
       "      <td>23907.25</td>\n",
       "      <td>2.116241</td>\n",
       "    </tr>\n",
       "    <tr>\n",
       "      <th>1</th>\n",
       "      <td>2024-11-21</td>\n",
       "      <td>23488.45</td>\n",
       "      <td>23349.90</td>\n",
       "      <td>-0.589864</td>\n",
       "    </tr>\n",
       "    <tr>\n",
       "      <th>2</th>\n",
       "      <td>2024-11-19</td>\n",
       "      <td>23529.55</td>\n",
       "      <td>23518.50</td>\n",
       "      <td>-0.046962</td>\n",
       "    </tr>\n",
       "    <tr>\n",
       "      <th>3</th>\n",
       "      <td>2024-11-18</td>\n",
       "      <td>23605.30</td>\n",
       "      <td>23453.80</td>\n",
       "      <td>-0.641805</td>\n",
       "    </tr>\n",
       "    <tr>\n",
       "      <th>4</th>\n",
       "      <td>2024-11-14</td>\n",
       "      <td>23542.15</td>\n",
       "      <td>23532.70</td>\n",
       "      <td>-0.040141</td>\n",
       "    </tr>\n",
       "  </tbody>\n",
       "</table>\n",
       "</div>"
      ],
      "text/plain": [
       "       Date      Open     Close   Daily Return %\n",
       "0 2024-11-22  23411.80  23907.25        2.116241\n",
       "1 2024-11-21  23488.45  23349.90       -0.589864\n",
       "2 2024-11-19  23529.55  23518.50       -0.046962\n",
       "3 2024-11-18  23605.30  23453.80       -0.641805\n",
       "4 2024-11-14  23542.15  23532.70       -0.040141"
      ]
     },
     "execution_count": 55,
     "metadata": {},
     "output_type": "execute_result"
    }
   ],
   "source": [
    "df_Nifty.head()"
   ]
  },
  {
   "cell_type": "code",
   "execution_count": 56,
   "metadata": {},
   "outputs": [
    {
     "data": {
      "text/plain": [
       "Index(['Date ', 'PREV. CLOSE ', 'close ', 'Daily Return %'], dtype='object')"
      ]
     },
     "execution_count": 56,
     "metadata": {},
     "output_type": "execute_result"
    }
   ],
   "source": [
    "df.columns"
   ]
  },
  {
   "cell_type": "code",
   "execution_count": 57,
   "metadata": {},
   "outputs": [
    {
     "data": {
      "text/plain": [
       "Index(['Date ', 'Open ', 'Close ', 'Daily Return %'], dtype='object')"
      ]
     },
     "execution_count": 57,
     "metadata": {},
     "output_type": "execute_result"
    }
   ],
   "source": [
    "df_Nifty.columns"
   ]
  },
  {
   "cell_type": "code",
   "execution_count": 58,
   "metadata": {},
   "outputs": [],
   "source": [
    "df.rename(columns={'Date ': 'DATE', 'PREV. CLOSE ': 'PREV. CLOSE', 'close ': 'CLOSE'}, inplace=True)"
   ]
  },
  {
   "cell_type": "code",
   "execution_count": 59,
   "metadata": {},
   "outputs": [],
   "source": [
    "df_Nifty.rename(columns={'Date ': 'DATE', 'Open ': 'OPEN', 'Close ': 'CLOSE'}, inplace=True)"
   ]
  },
  {
   "cell_type": "code",
   "execution_count": 60,
   "metadata": {},
   "outputs": [
    {
     "data": {
      "text/html": [
       "<div>\n",
       "<style scoped>\n",
       "    .dataframe tbody tr th:only-of-type {\n",
       "        vertical-align: middle;\n",
       "    }\n",
       "\n",
       "    .dataframe tbody tr th {\n",
       "        vertical-align: top;\n",
       "    }\n",
       "\n",
       "    .dataframe thead th {\n",
       "        text-align: right;\n",
       "    }\n",
       "</style>\n",
       "<table border=\"1\" class=\"dataframe\">\n",
       "  <thead>\n",
       "    <tr style=\"text-align: right;\">\n",
       "      <th></th>\n",
       "      <th>DATE</th>\n",
       "      <th>PREV. CLOSE</th>\n",
       "      <th>CLOSE</th>\n",
       "      <th>Daily Return %</th>\n",
       "    </tr>\n",
       "  </thead>\n",
       "  <tbody>\n",
       "    <tr>\n",
       "      <th>0</th>\n",
       "      <td>2024-11-22</td>\n",
       "      <td>3101.95</td>\n",
       "      <td>3167.10</td>\n",
       "      <td>2.100292</td>\n",
       "    </tr>\n",
       "    <tr>\n",
       "      <th>1</th>\n",
       "      <td>2024-11-21</td>\n",
       "      <td>3094.85</td>\n",
       "      <td>3101.95</td>\n",
       "      <td>0.229413</td>\n",
       "    </tr>\n",
       "    <tr>\n",
       "      <th>2</th>\n",
       "      <td>2024-11-19</td>\n",
       "      <td>3105.60</td>\n",
       "      <td>3094.85</td>\n",
       "      <td>-0.346149</td>\n",
       "    </tr>\n",
       "    <tr>\n",
       "      <th>3</th>\n",
       "      <td>2024-11-18</td>\n",
       "      <td>3102.40</td>\n",
       "      <td>3105.60</td>\n",
       "      <td>0.103146</td>\n",
       "    </tr>\n",
       "    <tr>\n",
       "      <th>4</th>\n",
       "      <td>2024-11-14</td>\n",
       "      <td>3116.60</td>\n",
       "      <td>3102.40</td>\n",
       "      <td>-0.455625</td>\n",
       "    </tr>\n",
       "  </tbody>\n",
       "</table>\n",
       "</div>"
      ],
      "text/plain": [
       "        DATE  PREV. CLOSE    CLOSE  Daily Return %\n",
       "0 2024-11-22      3101.95  3167.10        2.100292\n",
       "1 2024-11-21      3094.85  3101.95        0.229413\n",
       "2 2024-11-19      3105.60  3094.85       -0.346149\n",
       "3 2024-11-18      3102.40  3105.60        0.103146\n",
       "4 2024-11-14      3116.60  3102.40       -0.455625"
      ]
     },
     "execution_count": 60,
     "metadata": {},
     "output_type": "execute_result"
    }
   ],
   "source": [
    "df.head()"
   ]
  },
  {
   "cell_type": "code",
   "execution_count": 61,
   "metadata": {},
   "outputs": [
    {
     "data": {
      "text/html": [
       "<div>\n",
       "<style scoped>\n",
       "    .dataframe tbody tr th:only-of-type {\n",
       "        vertical-align: middle;\n",
       "    }\n",
       "\n",
       "    .dataframe tbody tr th {\n",
       "        vertical-align: top;\n",
       "    }\n",
       "\n",
       "    .dataframe thead th {\n",
       "        text-align: right;\n",
       "    }\n",
       "</style>\n",
       "<table border=\"1\" class=\"dataframe\">\n",
       "  <thead>\n",
       "    <tr style=\"text-align: right;\">\n",
       "      <th></th>\n",
       "      <th>DATE</th>\n",
       "      <th>OPEN</th>\n",
       "      <th>CLOSE</th>\n",
       "      <th>Daily Return %</th>\n",
       "    </tr>\n",
       "  </thead>\n",
       "  <tbody>\n",
       "    <tr>\n",
       "      <th>0</th>\n",
       "      <td>2024-11-22</td>\n",
       "      <td>23411.80</td>\n",
       "      <td>23907.25</td>\n",
       "      <td>2.116241</td>\n",
       "    </tr>\n",
       "    <tr>\n",
       "      <th>1</th>\n",
       "      <td>2024-11-21</td>\n",
       "      <td>23488.45</td>\n",
       "      <td>23349.90</td>\n",
       "      <td>-0.589864</td>\n",
       "    </tr>\n",
       "    <tr>\n",
       "      <th>2</th>\n",
       "      <td>2024-11-19</td>\n",
       "      <td>23529.55</td>\n",
       "      <td>23518.50</td>\n",
       "      <td>-0.046962</td>\n",
       "    </tr>\n",
       "    <tr>\n",
       "      <th>3</th>\n",
       "      <td>2024-11-18</td>\n",
       "      <td>23605.30</td>\n",
       "      <td>23453.80</td>\n",
       "      <td>-0.641805</td>\n",
       "    </tr>\n",
       "    <tr>\n",
       "      <th>4</th>\n",
       "      <td>2024-11-14</td>\n",
       "      <td>23542.15</td>\n",
       "      <td>23532.70</td>\n",
       "      <td>-0.040141</td>\n",
       "    </tr>\n",
       "  </tbody>\n",
       "</table>\n",
       "</div>"
      ],
      "text/plain": [
       "        DATE      OPEN     CLOSE  Daily Return %\n",
       "0 2024-11-22  23411.80  23907.25        2.116241\n",
       "1 2024-11-21  23488.45  23349.90       -0.589864\n",
       "2 2024-11-19  23529.55  23518.50       -0.046962\n",
       "3 2024-11-18  23605.30  23453.80       -0.641805\n",
       "4 2024-11-14  23542.15  23532.70       -0.040141"
      ]
     },
     "execution_count": 61,
     "metadata": {},
     "output_type": "execute_result"
    }
   ],
   "source": [
    "df_Nifty.head()"
   ]
  },
  {
   "cell_type": "code",
   "execution_count": 62,
   "metadata": {},
   "outputs": [],
   "source": [
    "# Merge DataFrames on 'date' column\n",
    "merged_df = pd.merge(df, df_Nifty, on='DATE', how='inner')  # Inner join"
   ]
  },
  {
   "cell_type": "code",
   "execution_count": 63,
   "metadata": {},
   "outputs": [
    {
     "data": {
      "text/plain": [
       "(1243, 7)"
      ]
     },
     "execution_count": 63,
     "metadata": {},
     "output_type": "execute_result"
    }
   ],
   "source": [
    "merged_df.shape"
   ]
  },
  {
   "cell_type": "code",
   "execution_count": 64,
   "metadata": {},
   "outputs": [
    {
     "data": {
      "text/html": [
       "<div>\n",
       "<style scoped>\n",
       "    .dataframe tbody tr th:only-of-type {\n",
       "        vertical-align: middle;\n",
       "    }\n",
       "\n",
       "    .dataframe tbody tr th {\n",
       "        vertical-align: top;\n",
       "    }\n",
       "\n",
       "    .dataframe thead th {\n",
       "        text-align: right;\n",
       "    }\n",
       "</style>\n",
       "<table border=\"1\" class=\"dataframe\">\n",
       "  <thead>\n",
       "    <tr style=\"text-align: right;\">\n",
       "      <th></th>\n",
       "      <th>DATE</th>\n",
       "      <th>PREV. CLOSE</th>\n",
       "      <th>CLOSE_x</th>\n",
       "      <th>Daily Return %_x</th>\n",
       "      <th>OPEN</th>\n",
       "      <th>CLOSE_y</th>\n",
       "      <th>Daily Return %_y</th>\n",
       "    </tr>\n",
       "  </thead>\n",
       "  <tbody>\n",
       "    <tr>\n",
       "      <th>0</th>\n",
       "      <td>2024-11-22</td>\n",
       "      <td>3101.95</td>\n",
       "      <td>3167.10</td>\n",
       "      <td>2.100292</td>\n",
       "      <td>23411.80</td>\n",
       "      <td>23907.25</td>\n",
       "      <td>2.116241</td>\n",
       "    </tr>\n",
       "    <tr>\n",
       "      <th>1</th>\n",
       "      <td>2024-11-21</td>\n",
       "      <td>3094.85</td>\n",
       "      <td>3101.95</td>\n",
       "      <td>0.229413</td>\n",
       "      <td>23488.45</td>\n",
       "      <td>23349.90</td>\n",
       "      <td>-0.589864</td>\n",
       "    </tr>\n",
       "    <tr>\n",
       "      <th>2</th>\n",
       "      <td>2024-11-19</td>\n",
       "      <td>3105.60</td>\n",
       "      <td>3094.85</td>\n",
       "      <td>-0.346149</td>\n",
       "      <td>23529.55</td>\n",
       "      <td>23518.50</td>\n",
       "      <td>-0.046962</td>\n",
       "    </tr>\n",
       "    <tr>\n",
       "      <th>3</th>\n",
       "      <td>2024-11-18</td>\n",
       "      <td>3102.40</td>\n",
       "      <td>3105.60</td>\n",
       "      <td>0.103146</td>\n",
       "      <td>23605.30</td>\n",
       "      <td>23453.80</td>\n",
       "      <td>-0.641805</td>\n",
       "    </tr>\n",
       "    <tr>\n",
       "      <th>4</th>\n",
       "      <td>2024-11-14</td>\n",
       "      <td>3116.60</td>\n",
       "      <td>3102.40</td>\n",
       "      <td>-0.455625</td>\n",
       "      <td>23542.15</td>\n",
       "      <td>23532.70</td>\n",
       "      <td>-0.040141</td>\n",
       "    </tr>\n",
       "  </tbody>\n",
       "</table>\n",
       "</div>"
      ],
      "text/plain": [
       "        DATE  PREV. CLOSE  CLOSE_x  Daily Return %_x      OPEN   CLOSE_y  \\\n",
       "0 2024-11-22      3101.95  3167.10          2.100292  23411.80  23907.25   \n",
       "1 2024-11-21      3094.85  3101.95          0.229413  23488.45  23349.90   \n",
       "2 2024-11-19      3105.60  3094.85         -0.346149  23529.55  23518.50   \n",
       "3 2024-11-18      3102.40  3105.60          0.103146  23605.30  23453.80   \n",
       "4 2024-11-14      3116.60  3102.40         -0.455625  23542.15  23532.70   \n",
       "\n",
       "   Daily Return %_y  \n",
       "0          2.116241  \n",
       "1         -0.589864  \n",
       "2         -0.046962  \n",
       "3         -0.641805  \n",
       "4         -0.040141  "
      ]
     },
     "execution_count": 64,
     "metadata": {},
     "output_type": "execute_result"
    }
   ],
   "source": [
    "merged_df.head()"
   ]
  },
  {
   "cell_type": "code",
   "execution_count": 65,
   "metadata": {},
   "outputs": [],
   "source": [
    "merged_df.to_csv('TorrentPharma5Year.csv', index=False, encoding='utf-8')"
   ]
  },
  {
   "cell_type": "code",
   "execution_count": 74,
   "metadata": {},
   "outputs": [
    {
     "name": "stdout",
     "output_type": "stream",
     "text": [
      "Last 1 Year Data:\n",
      "          DATE  PREV. CLOSE  CLOSE_x  Daily Return %_x      OPEN   CLOSE_y  \\\n",
      "0   2024-11-22      3101.95  3167.10          2.100292  23411.80  23907.25   \n",
      "1   2024-11-21      3094.85  3101.95          0.229413  23488.45  23349.90   \n",
      "2   2024-11-19      3105.60  3094.85         -0.346149  23529.55  23518.50   \n",
      "3   2024-11-18      3102.40  3105.60          0.103146  23605.30  23453.80   \n",
      "4   2024-11-14      3116.60  3102.40         -0.455625  23542.15  23532.70   \n",
      "..         ...          ...      ...               ...       ...       ...   \n",
      "243 2023-11-30      2091.85  2126.55          1.658819  20108.50  20133.15   \n",
      "244 2023-11-29      2079.00  2091.85          0.618086  19976.55  20096.60   \n",
      "245 2023-11-28      2090.80  2079.00         -0.564377  19844.65  19889.70   \n",
      "246 2023-11-24      2106.55  2090.80         -0.747668  19809.60  19794.70   \n",
      "247 2023-11-23      2111.55  2106.55         -0.236793  19828.45  19802.00   \n",
      "\n",
      "     Daily Return %_y  \n",
      "0            2.116241  \n",
      "1           -0.589864  \n",
      "2           -0.046962  \n",
      "3           -0.641805  \n",
      "4           -0.040141  \n",
      "..                ...  \n",
      "243          0.122585  \n",
      "244          0.600955  \n",
      "245          0.227013  \n",
      "246         -0.075216  \n",
      "247         -0.133394  \n",
      "\n",
      "[248 rows x 7 columns]\n",
      "\n",
      "Last 3 Years Data:\n",
      "          DATE  PREV. CLOSE  CLOSE_x  Daily Return %_x      OPEN   CLOSE_y  \\\n",
      "0   2024-11-22      3101.95  3167.10          2.100292  23411.80  23907.25   \n",
      "1   2024-11-21      3094.85  3101.95          0.229413  23488.45  23349.90   \n",
      "2   2024-11-19      3105.60  3094.85         -0.346149  23529.55  23518.50   \n",
      "3   2024-11-18      3102.40  3105.60          0.103146  23605.30  23453.80   \n",
      "4   2024-11-14      3116.60  3102.40         -0.455625  23542.15  23532.70   \n",
      "..         ...          ...      ...               ...       ...       ...   \n",
      "741 2021-11-29      3036.10  3037.30          0.039524  17055.80  17053.95   \n",
      "742 2021-11-26      2990.55  3036.10          1.523131  17338.75  17026.45   \n",
      "743 2021-11-25      2817.50  2990.55          6.141970  17417.30  17536.25   \n",
      "744 2021-11-24      2821.50  2817.50         -0.141769  17550.05  17415.05   \n",
      "745 2021-11-23      2753.15  2821.50          2.482611  17281.75  17503.35   \n",
      "\n",
      "     Daily Return %_y  \n",
      "0            2.116241  \n",
      "1           -0.589864  \n",
      "2           -0.046962  \n",
      "3           -0.641805  \n",
      "4           -0.040141  \n",
      "..                ...  \n",
      "741         -0.010847  \n",
      "742         -1.801168  \n",
      "743          0.682942  \n",
      "744         -0.769229  \n",
      "745          1.282278  \n",
      "\n",
      "[746 rows x 7 columns]\n"
     ]
    }
   ],
   "source": [
    "# Get today's date\n",
    "\n",
    "from datetime import datetime, timedelta\n",
    "today = merged_df.loc[0, 'DATE']\n",
    "# Filter data for the last 1 year\n",
    "last_year = today - timedelta(days=365)\n",
    "last_1_year_df = merged_df[merged_df['DATE'] >= last_year].copy()\n",
    "\n",
    "# Filter data for the last 3 years\n",
    "last_3_years = today - timedelta(days=365*3)\n",
    "last_3_year_df = merged_df[merged_df['DATE'] >= last_3_years].copy()\n",
    "\n",
    "# Display results\n",
    "print(\"Last 1 Year Data:\")\n",
    "print(last_1_year_df)\n",
    "\n",
    "print(\"\\nLast 3 Years Data:\")\n",
    "print(last_3_year_df)\n",
    "\n",
    "last_5_year_df = merged_df"
   ]
  },
  {
   "cell_type": "code",
   "execution_count": 71,
   "metadata": {},
   "outputs": [
    {
     "name": "stdout",
     "output_type": "stream",
     "text": [
      "2024-11-22 00:00:00\n"
     ]
    }
   ],
   "source": [
    "print(today)"
   ]
  },
  {
   "cell_type": "code",
   "execution_count": null,
   "metadata": {},
   "outputs": [
    {
     "data": {
      "text/html": [
       "<div>\n",
       "<style scoped>\n",
       "    .dataframe tbody tr th:only-of-type {\n",
       "        vertical-align: middle;\n",
       "    }\n",
       "\n",
       "    .dataframe tbody tr th {\n",
       "        vertical-align: top;\n",
       "    }\n",
       "\n",
       "    .dataframe thead th {\n",
       "        text-align: right;\n",
       "    }\n",
       "</style>\n",
       "<table border=\"1\" class=\"dataframe\">\n",
       "  <thead>\n",
       "    <tr style=\"text-align: right;\">\n",
       "      <th></th>\n",
       "      <th>DATE</th>\n",
       "      <th>PREV. CLOSE</th>\n",
       "      <th>CLOSE_x</th>\n",
       "      <th>Daily Return %_x</th>\n",
       "      <th>OPEN</th>\n",
       "      <th>CLOSE_y</th>\n",
       "      <th>Daily Return %_y</th>\n",
       "    </tr>\n",
       "  </thead>\n",
       "  <tbody>\n",
       "    <tr>\n",
       "      <th>0</th>\n",
       "      <td>2024-11-22</td>\n",
       "      <td>3101.95</td>\n",
       "      <td>3167.10</td>\n",
       "      <td>2.100292</td>\n",
       "      <td>23411.80</td>\n",
       "      <td>23907.25</td>\n",
       "      <td>2.116241</td>\n",
       "    </tr>\n",
       "    <tr>\n",
       "      <th>1</th>\n",
       "      <td>2024-11-21</td>\n",
       "      <td>3094.85</td>\n",
       "      <td>3101.95</td>\n",
       "      <td>0.229413</td>\n",
       "      <td>23488.45</td>\n",
       "      <td>23349.90</td>\n",
       "      <td>-0.589864</td>\n",
       "    </tr>\n",
       "    <tr>\n",
       "      <th>2</th>\n",
       "      <td>2024-11-19</td>\n",
       "      <td>3105.60</td>\n",
       "      <td>3094.85</td>\n",
       "      <td>-0.346149</td>\n",
       "      <td>23529.55</td>\n",
       "      <td>23518.50</td>\n",
       "      <td>-0.046962</td>\n",
       "    </tr>\n",
       "    <tr>\n",
       "      <th>3</th>\n",
       "      <td>2024-11-18</td>\n",
       "      <td>3102.40</td>\n",
       "      <td>3105.60</td>\n",
       "      <td>0.103146</td>\n",
       "      <td>23605.30</td>\n",
       "      <td>23453.80</td>\n",
       "      <td>-0.641805</td>\n",
       "    </tr>\n",
       "    <tr>\n",
       "      <th>4</th>\n",
       "      <td>2024-11-14</td>\n",
       "      <td>3116.60</td>\n",
       "      <td>3102.40</td>\n",
       "      <td>-0.455625</td>\n",
       "      <td>23542.15</td>\n",
       "      <td>23532.70</td>\n",
       "      <td>-0.040141</td>\n",
       "    </tr>\n",
       "    <tr>\n",
       "      <th>...</th>\n",
       "      <td>...</td>\n",
       "      <td>...</td>\n",
       "      <td>...</td>\n",
       "      <td>...</td>\n",
       "      <td>...</td>\n",
       "      <td>...</td>\n",
       "      <td>...</td>\n",
       "    </tr>\n",
       "    <tr>\n",
       "      <th>243</th>\n",
       "      <td>2023-11-30</td>\n",
       "      <td>2091.85</td>\n",
       "      <td>2126.55</td>\n",
       "      <td>1.658819</td>\n",
       "      <td>20108.50</td>\n",
       "      <td>20133.15</td>\n",
       "      <td>0.122585</td>\n",
       "    </tr>\n",
       "    <tr>\n",
       "      <th>244</th>\n",
       "      <td>2023-11-29</td>\n",
       "      <td>2079.00</td>\n",
       "      <td>2091.85</td>\n",
       "      <td>0.618086</td>\n",
       "      <td>19976.55</td>\n",
       "      <td>20096.60</td>\n",
       "      <td>0.600955</td>\n",
       "    </tr>\n",
       "    <tr>\n",
       "      <th>245</th>\n",
       "      <td>2023-11-28</td>\n",
       "      <td>2090.80</td>\n",
       "      <td>2079.00</td>\n",
       "      <td>-0.564377</td>\n",
       "      <td>19844.65</td>\n",
       "      <td>19889.70</td>\n",
       "      <td>0.227013</td>\n",
       "    </tr>\n",
       "    <tr>\n",
       "      <th>246</th>\n",
       "      <td>2023-11-24</td>\n",
       "      <td>2106.55</td>\n",
       "      <td>2090.80</td>\n",
       "      <td>-0.747668</td>\n",
       "      <td>19809.60</td>\n",
       "      <td>19794.70</td>\n",
       "      <td>-0.075216</td>\n",
       "    </tr>\n",
       "    <tr>\n",
       "      <th>247</th>\n",
       "      <td>2023-11-23</td>\n",
       "      <td>2111.55</td>\n",
       "      <td>2106.55</td>\n",
       "      <td>-0.236793</td>\n",
       "      <td>19828.45</td>\n",
       "      <td>19802.00</td>\n",
       "      <td>-0.133394</td>\n",
       "    </tr>\n",
       "  </tbody>\n",
       "</table>\n",
       "<p>248 rows × 7 columns</p>\n",
       "</div>"
      ],
      "text/plain": [
       "          DATE  PREV. CLOSE  CLOSE_x  Daily Return %_x      OPEN   CLOSE_y  \\\n",
       "0   2024-11-22      3101.95  3167.10          2.100292  23411.80  23907.25   \n",
       "1   2024-11-21      3094.85  3101.95          0.229413  23488.45  23349.90   \n",
       "2   2024-11-19      3105.60  3094.85         -0.346149  23529.55  23518.50   \n",
       "3   2024-11-18      3102.40  3105.60          0.103146  23605.30  23453.80   \n",
       "4   2024-11-14      3116.60  3102.40         -0.455625  23542.15  23532.70   \n",
       "..         ...          ...      ...               ...       ...       ...   \n",
       "243 2023-11-30      2091.85  2126.55          1.658819  20108.50  20133.15   \n",
       "244 2023-11-29      2079.00  2091.85          0.618086  19976.55  20096.60   \n",
       "245 2023-11-28      2090.80  2079.00         -0.564377  19844.65  19889.70   \n",
       "246 2023-11-24      2106.55  2090.80         -0.747668  19809.60  19794.70   \n",
       "247 2023-11-23      2111.55  2106.55         -0.236793  19828.45  19802.00   \n",
       "\n",
       "     Daily Return %_y  \n",
       "0            2.116241  \n",
       "1           -0.589864  \n",
       "2           -0.046962  \n",
       "3           -0.641805  \n",
       "4           -0.040141  \n",
       "..                ...  \n",
       "243          0.122585  \n",
       "244          0.600955  \n",
       "245          0.227013  \n",
       "246         -0.075216  \n",
       "247         -0.133394  \n",
       "\n",
       "[248 rows x 7 columns]"
      ]
     },
     "execution_count": 76,
     "metadata": {},
     "output_type": "execute_result"
    }
   ],
   "source": [
    "last_1_year_df"
   ]
  },
  {
   "cell_type": "code",
   "execution_count": 77,
   "metadata": {},
   "outputs": [
    {
     "data": {
      "text/html": [
       "<div>\n",
       "<style scoped>\n",
       "    .dataframe tbody tr th:only-of-type {\n",
       "        vertical-align: middle;\n",
       "    }\n",
       "\n",
       "    .dataframe tbody tr th {\n",
       "        vertical-align: top;\n",
       "    }\n",
       "\n",
       "    .dataframe thead th {\n",
       "        text-align: right;\n",
       "    }\n",
       "</style>\n",
       "<table border=\"1\" class=\"dataframe\">\n",
       "  <thead>\n",
       "    <tr style=\"text-align: right;\">\n",
       "      <th></th>\n",
       "      <th>DATE</th>\n",
       "      <th>PREV. CLOSE</th>\n",
       "      <th>CLOSE_x</th>\n",
       "      <th>Daily Return %_x</th>\n",
       "      <th>OPEN</th>\n",
       "      <th>CLOSE_y</th>\n",
       "      <th>Daily Return %_y</th>\n",
       "    </tr>\n",
       "  </thead>\n",
       "  <tbody>\n",
       "    <tr>\n",
       "      <th>0</th>\n",
       "      <td>2024-11-22</td>\n",
       "      <td>3101.95</td>\n",
       "      <td>3167.10</td>\n",
       "      <td>2.100292</td>\n",
       "      <td>23411.80</td>\n",
       "      <td>23907.25</td>\n",
       "      <td>2.116241</td>\n",
       "    </tr>\n",
       "    <tr>\n",
       "      <th>1</th>\n",
       "      <td>2024-11-21</td>\n",
       "      <td>3094.85</td>\n",
       "      <td>3101.95</td>\n",
       "      <td>0.229413</td>\n",
       "      <td>23488.45</td>\n",
       "      <td>23349.90</td>\n",
       "      <td>-0.589864</td>\n",
       "    </tr>\n",
       "    <tr>\n",
       "      <th>2</th>\n",
       "      <td>2024-11-19</td>\n",
       "      <td>3105.60</td>\n",
       "      <td>3094.85</td>\n",
       "      <td>-0.346149</td>\n",
       "      <td>23529.55</td>\n",
       "      <td>23518.50</td>\n",
       "      <td>-0.046962</td>\n",
       "    </tr>\n",
       "    <tr>\n",
       "      <th>3</th>\n",
       "      <td>2024-11-18</td>\n",
       "      <td>3102.40</td>\n",
       "      <td>3105.60</td>\n",
       "      <td>0.103146</td>\n",
       "      <td>23605.30</td>\n",
       "      <td>23453.80</td>\n",
       "      <td>-0.641805</td>\n",
       "    </tr>\n",
       "    <tr>\n",
       "      <th>4</th>\n",
       "      <td>2024-11-14</td>\n",
       "      <td>3116.60</td>\n",
       "      <td>3102.40</td>\n",
       "      <td>-0.455625</td>\n",
       "      <td>23542.15</td>\n",
       "      <td>23532.70</td>\n",
       "      <td>-0.040141</td>\n",
       "    </tr>\n",
       "    <tr>\n",
       "      <th>...</th>\n",
       "      <td>...</td>\n",
       "      <td>...</td>\n",
       "      <td>...</td>\n",
       "      <td>...</td>\n",
       "      <td>...</td>\n",
       "      <td>...</td>\n",
       "      <td>...</td>\n",
       "    </tr>\n",
       "    <tr>\n",
       "      <th>741</th>\n",
       "      <td>2021-11-29</td>\n",
       "      <td>3036.10</td>\n",
       "      <td>3037.30</td>\n",
       "      <td>0.039524</td>\n",
       "      <td>17055.80</td>\n",
       "      <td>17053.95</td>\n",
       "      <td>-0.010847</td>\n",
       "    </tr>\n",
       "    <tr>\n",
       "      <th>742</th>\n",
       "      <td>2021-11-26</td>\n",
       "      <td>2990.55</td>\n",
       "      <td>3036.10</td>\n",
       "      <td>1.523131</td>\n",
       "      <td>17338.75</td>\n",
       "      <td>17026.45</td>\n",
       "      <td>-1.801168</td>\n",
       "    </tr>\n",
       "    <tr>\n",
       "      <th>743</th>\n",
       "      <td>2021-11-25</td>\n",
       "      <td>2817.50</td>\n",
       "      <td>2990.55</td>\n",
       "      <td>6.141970</td>\n",
       "      <td>17417.30</td>\n",
       "      <td>17536.25</td>\n",
       "      <td>0.682942</td>\n",
       "    </tr>\n",
       "    <tr>\n",
       "      <th>744</th>\n",
       "      <td>2021-11-24</td>\n",
       "      <td>2821.50</td>\n",
       "      <td>2817.50</td>\n",
       "      <td>-0.141769</td>\n",
       "      <td>17550.05</td>\n",
       "      <td>17415.05</td>\n",
       "      <td>-0.769229</td>\n",
       "    </tr>\n",
       "    <tr>\n",
       "      <th>745</th>\n",
       "      <td>2021-11-23</td>\n",
       "      <td>2753.15</td>\n",
       "      <td>2821.50</td>\n",
       "      <td>2.482611</td>\n",
       "      <td>17281.75</td>\n",
       "      <td>17503.35</td>\n",
       "      <td>1.282278</td>\n",
       "    </tr>\n",
       "  </tbody>\n",
       "</table>\n",
       "<p>746 rows × 7 columns</p>\n",
       "</div>"
      ],
      "text/plain": [
       "          DATE  PREV. CLOSE  CLOSE_x  Daily Return %_x      OPEN   CLOSE_y  \\\n",
       "0   2024-11-22      3101.95  3167.10          2.100292  23411.80  23907.25   \n",
       "1   2024-11-21      3094.85  3101.95          0.229413  23488.45  23349.90   \n",
       "2   2024-11-19      3105.60  3094.85         -0.346149  23529.55  23518.50   \n",
       "3   2024-11-18      3102.40  3105.60          0.103146  23605.30  23453.80   \n",
       "4   2024-11-14      3116.60  3102.40         -0.455625  23542.15  23532.70   \n",
       "..         ...          ...      ...               ...       ...       ...   \n",
       "741 2021-11-29      3036.10  3037.30          0.039524  17055.80  17053.95   \n",
       "742 2021-11-26      2990.55  3036.10          1.523131  17338.75  17026.45   \n",
       "743 2021-11-25      2817.50  2990.55          6.141970  17417.30  17536.25   \n",
       "744 2021-11-24      2821.50  2817.50         -0.141769  17550.05  17415.05   \n",
       "745 2021-11-23      2753.15  2821.50          2.482611  17281.75  17503.35   \n",
       "\n",
       "     Daily Return %_y  \n",
       "0            2.116241  \n",
       "1           -0.589864  \n",
       "2           -0.046962  \n",
       "3           -0.641805  \n",
       "4           -0.040141  \n",
       "..                ...  \n",
       "741         -0.010847  \n",
       "742         -1.801168  \n",
       "743          0.682942  \n",
       "744         -0.769229  \n",
       "745          1.282278  \n",
       "\n",
       "[746 rows x 7 columns]"
      ]
     },
     "execution_count": 77,
     "metadata": {},
     "output_type": "execute_result"
    }
   ],
   "source": [
    "last_3_year_df"
   ]
  },
  {
   "cell_type": "code",
   "execution_count": 78,
   "metadata": {},
   "outputs": [
    {
     "data": {
      "text/html": [
       "<div>\n",
       "<style scoped>\n",
       "    .dataframe tbody tr th:only-of-type {\n",
       "        vertical-align: middle;\n",
       "    }\n",
       "\n",
       "    .dataframe tbody tr th {\n",
       "        vertical-align: top;\n",
       "    }\n",
       "\n",
       "    .dataframe thead th {\n",
       "        text-align: right;\n",
       "    }\n",
       "</style>\n",
       "<table border=\"1\" class=\"dataframe\">\n",
       "  <thead>\n",
       "    <tr style=\"text-align: right;\">\n",
       "      <th></th>\n",
       "      <th>DATE</th>\n",
       "      <th>PREV. CLOSE</th>\n",
       "      <th>CLOSE_x</th>\n",
       "      <th>Daily Return %_x</th>\n",
       "      <th>OPEN</th>\n",
       "      <th>CLOSE_y</th>\n",
       "      <th>Daily Return %_y</th>\n",
       "    </tr>\n",
       "  </thead>\n",
       "  <tbody>\n",
       "    <tr>\n",
       "      <th>0</th>\n",
       "      <td>2024-11-22</td>\n",
       "      <td>3101.95</td>\n",
       "      <td>3167.10</td>\n",
       "      <td>2.100292</td>\n",
       "      <td>23411.80</td>\n",
       "      <td>23907.25</td>\n",
       "      <td>2.116241</td>\n",
       "    </tr>\n",
       "    <tr>\n",
       "      <th>1</th>\n",
       "      <td>2024-11-21</td>\n",
       "      <td>3094.85</td>\n",
       "      <td>3101.95</td>\n",
       "      <td>0.229413</td>\n",
       "      <td>23488.45</td>\n",
       "      <td>23349.90</td>\n",
       "      <td>-0.589864</td>\n",
       "    </tr>\n",
       "    <tr>\n",
       "      <th>2</th>\n",
       "      <td>2024-11-19</td>\n",
       "      <td>3105.60</td>\n",
       "      <td>3094.85</td>\n",
       "      <td>-0.346149</td>\n",
       "      <td>23529.55</td>\n",
       "      <td>23518.50</td>\n",
       "      <td>-0.046962</td>\n",
       "    </tr>\n",
       "    <tr>\n",
       "      <th>3</th>\n",
       "      <td>2024-11-18</td>\n",
       "      <td>3102.40</td>\n",
       "      <td>3105.60</td>\n",
       "      <td>0.103146</td>\n",
       "      <td>23605.30</td>\n",
       "      <td>23453.80</td>\n",
       "      <td>-0.641805</td>\n",
       "    </tr>\n",
       "    <tr>\n",
       "      <th>4</th>\n",
       "      <td>2024-11-14</td>\n",
       "      <td>3116.60</td>\n",
       "      <td>3102.40</td>\n",
       "      <td>-0.455625</td>\n",
       "      <td>23542.15</td>\n",
       "      <td>23532.70</td>\n",
       "      <td>-0.040141</td>\n",
       "    </tr>\n",
       "    <tr>\n",
       "      <th>...</th>\n",
       "      <td>...</td>\n",
       "      <td>...</td>\n",
       "      <td>...</td>\n",
       "      <td>...</td>\n",
       "      <td>...</td>\n",
       "      <td>...</td>\n",
       "      <td>...</td>\n",
       "    </tr>\n",
       "    <tr>\n",
       "      <th>1238</th>\n",
       "      <td>2019-11-29</td>\n",
       "      <td>1883.85</td>\n",
       "      <td>1898.60</td>\n",
       "      <td>0.782971</td>\n",
       "      <td>12146.20</td>\n",
       "      <td>12056.05</td>\n",
       "      <td>-0.742207</td>\n",
       "    </tr>\n",
       "    <tr>\n",
       "      <th>1239</th>\n",
       "      <td>2019-11-28</td>\n",
       "      <td>1874.25</td>\n",
       "      <td>1883.85</td>\n",
       "      <td>0.512205</td>\n",
       "      <td>12132.10</td>\n",
       "      <td>12151.15</td>\n",
       "      <td>0.157021</td>\n",
       "    </tr>\n",
       "    <tr>\n",
       "      <th>1240</th>\n",
       "      <td>2019-11-27</td>\n",
       "      <td>1788.10</td>\n",
       "      <td>1874.25</td>\n",
       "      <td>4.817963</td>\n",
       "      <td>12068.50</td>\n",
       "      <td>12100.70</td>\n",
       "      <td>0.266810</td>\n",
       "    </tr>\n",
       "    <tr>\n",
       "      <th>1241</th>\n",
       "      <td>2019-11-26</td>\n",
       "      <td>1760.10</td>\n",
       "      <td>1788.10</td>\n",
       "      <td>1.590819</td>\n",
       "      <td>12110.20</td>\n",
       "      <td>12037.70</td>\n",
       "      <td>-0.598669</td>\n",
       "    </tr>\n",
       "    <tr>\n",
       "      <th>1242</th>\n",
       "      <td>2019-11-25</td>\n",
       "      <td>1711.85</td>\n",
       "      <td>1760.10</td>\n",
       "      <td>2.818588</td>\n",
       "      <td>11922.45</td>\n",
       "      <td>12073.75</td>\n",
       "      <td>1.269034</td>\n",
       "    </tr>\n",
       "  </tbody>\n",
       "</table>\n",
       "<p>1243 rows × 7 columns</p>\n",
       "</div>"
      ],
      "text/plain": [
       "           DATE  PREV. CLOSE  CLOSE_x  Daily Return %_x      OPEN   CLOSE_y  \\\n",
       "0    2024-11-22      3101.95  3167.10          2.100292  23411.80  23907.25   \n",
       "1    2024-11-21      3094.85  3101.95          0.229413  23488.45  23349.90   \n",
       "2    2024-11-19      3105.60  3094.85         -0.346149  23529.55  23518.50   \n",
       "3    2024-11-18      3102.40  3105.60          0.103146  23605.30  23453.80   \n",
       "4    2024-11-14      3116.60  3102.40         -0.455625  23542.15  23532.70   \n",
       "...         ...          ...      ...               ...       ...       ...   \n",
       "1238 2019-11-29      1883.85  1898.60          0.782971  12146.20  12056.05   \n",
       "1239 2019-11-28      1874.25  1883.85          0.512205  12132.10  12151.15   \n",
       "1240 2019-11-27      1788.10  1874.25          4.817963  12068.50  12100.70   \n",
       "1241 2019-11-26      1760.10  1788.10          1.590819  12110.20  12037.70   \n",
       "1242 2019-11-25      1711.85  1760.10          2.818588  11922.45  12073.75   \n",
       "\n",
       "      Daily Return %_y  \n",
       "0             2.116241  \n",
       "1            -0.589864  \n",
       "2            -0.046962  \n",
       "3            -0.641805  \n",
       "4            -0.040141  \n",
       "...                ...  \n",
       "1238         -0.742207  \n",
       "1239          0.157021  \n",
       "1240          0.266810  \n",
       "1241         -0.598669  \n",
       "1242          1.269034  \n",
       "\n",
       "[1243 rows x 7 columns]"
      ]
     },
     "execution_count": 78,
     "metadata": {},
     "output_type": "execute_result"
    }
   ],
   "source": [
    "last_5_year_df"
   ]
  },
  {
   "cell_type": "code",
   "execution_count": 81,
   "metadata": {},
   "outputs": [],
   "source": [
    "with pd.ExcelWriter('Torrent_Pharma_analysis.xlsx') as writer:\n",
    "    last_1_year_df.to_excel(writer, sheet_name='1 Year', index=False)\n",
    "    last_3_year_df.to_excel(writer, sheet_name='3 Years', index=False)\n",
    "    last_5_year_df.to_excel(writer, sheet_name='5 Years', index=False)"
   ]
  },
  {
   "cell_type": "code",
   "execution_count": 80,
   "metadata": {},
   "outputs": [
    {
     "name": "stdout",
     "output_type": "stream",
     "text": [
      "Defaulting to user installation because normal site-packages is not writeable\n",
      "Collecting openpyxl\n",
      "  Downloading openpyxl-3.1.5-py2.py3-none-any.whl.metadata (2.5 kB)\n",
      "Collecting et-xmlfile (from openpyxl)\n",
      "  Downloading et_xmlfile-2.0.0-py3-none-any.whl.metadata (2.7 kB)\n",
      "Downloading openpyxl-3.1.5-py2.py3-none-any.whl (250 kB)\n",
      "Downloading et_xmlfile-2.0.0-py3-none-any.whl (18 kB)\n",
      "Installing collected packages: et-xmlfile, openpyxl\n",
      "Successfully installed et-xmlfile-2.0.0 openpyxl-3.1.5\n"
     ]
    },
    {
     "name": "stderr",
     "output_type": "stream",
     "text": [
      "\n",
      "[notice] A new release of pip is available: 24.2 -> 24.3.1\n",
      "[notice] To update, run: C:\\Users\\soura\\AppData\\Local\\Microsoft\\WindowsApps\\PythonSoftwareFoundation.Python.3.12_qbz5n2kfra8p0\\python.exe -m pip install --upgrade pip\n"
     ]
    }
   ],
   "source": [
    "!pip install openpyxl"
   ]
  },
  {
   "cell_type": "code",
   "execution_count": null,
   "metadata": {},
   "outputs": [],
   "source": []
  }
 ],
 "metadata": {
  "kernelspec": {
   "display_name": "Python 3",
   "language": "python",
   "name": "python3"
  },
  "language_info": {
   "codemirror_mode": {
    "name": "ipython",
    "version": 3
   },
   "file_extension": ".py",
   "mimetype": "text/x-python",
   "name": "python",
   "nbconvert_exporter": "python",
   "pygments_lexer": "ipython3",
   "version": "3.12.7"
  }
 },
 "nbformat": 4,
 "nbformat_minor": 2
}
