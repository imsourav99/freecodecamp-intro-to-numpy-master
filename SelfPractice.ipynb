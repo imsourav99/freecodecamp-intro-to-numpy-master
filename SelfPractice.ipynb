{
 "cells": [
  {
   "cell_type": "code",
   "execution_count": 2,
   "id": "e422a6c0-9394-4463-90ba-0bf2a3bc95ad",
   "metadata": {},
   "outputs": [
    {
     "name": "stdout",
     "output_type": "stream",
     "text": [
      "Defaulting to user installation because normal site-packages is not writeable\n",
      "Collecting matplotlib\n",
      "  Downloading matplotlib-3.9.2-cp312-cp312-win_amd64.whl.metadata (11 kB)\n",
      "Collecting contourpy>=1.0.1 (from matplotlib)\n",
      "  Downloading contourpy-1.3.0-cp312-cp312-win_amd64.whl.metadata (5.4 kB)\n",
      "Collecting cycler>=0.10 (from matplotlib)\n",
      "  Downloading cycler-0.12.1-py3-none-any.whl.metadata (3.8 kB)\n",
      "Collecting fonttools>=4.22.0 (from matplotlib)\n",
      "  Downloading fonttools-4.54.0-cp312-cp312-win_amd64.whl.metadata (166 kB)\n",
      "Collecting kiwisolver>=1.3.1 (from matplotlib)\n",
      "  Downloading kiwisolver-1.4.7-cp312-cp312-win_amd64.whl.metadata (6.4 kB)\n",
      "Requirement already satisfied: numpy>=1.23 in c:\\users\\soura\\appdata\\local\\packages\\pythonsoftwarefoundation.python.3.12_qbz5n2kfra8p0\\localcache\\local-packages\\python312\\site-packages (from matplotlib) (2.1.1)\n",
      "Requirement already satisfied: packaging>=20.0 in c:\\users\\soura\\appdata\\local\\packages\\pythonsoftwarefoundation.python.3.12_qbz5n2kfra8p0\\localcache\\local-packages\\python312\\site-packages (from matplotlib) (24.1)\n",
      "Collecting pillow>=8 (from matplotlib)\n",
      "  Downloading pillow-10.4.0-cp312-cp312-win_amd64.whl.metadata (9.3 kB)\n",
      "Collecting pyparsing>=2.3.1 (from matplotlib)\n",
      "  Downloading pyparsing-3.1.4-py3-none-any.whl.metadata (5.1 kB)\n",
      "Requirement already satisfied: python-dateutil>=2.7 in c:\\users\\soura\\appdata\\local\\packages\\pythonsoftwarefoundation.python.3.12_qbz5n2kfra8p0\\localcache\\local-packages\\python312\\site-packages (from matplotlib) (2.9.0.post0)\n",
      "Requirement already satisfied: six>=1.5 in c:\\users\\soura\\appdata\\local\\packages\\pythonsoftwarefoundation.python.3.12_qbz5n2kfra8p0\\localcache\\local-packages\\python312\\site-packages (from python-dateutil>=2.7->matplotlib) (1.16.0)\n",
      "Downloading matplotlib-3.9.2-cp312-cp312-win_amd64.whl (7.8 MB)\n",
      "   ---------------------------------------- 0.0/7.8 MB ? eta -:--:--\n",
      "   - -------------------------------------- 0.3/7.8 MB ? eta -:--:--\n",
      "   ---- ----------------------------------- 0.8/7.8 MB 3.0 MB/s eta 0:00:03\n",
      "   ----- ---------------------------------- 1.0/7.8 MB 2.5 MB/s eta 0:00:03\n",
      "   ------ --------------------------------- 1.3/7.8 MB 1.8 MB/s eta 0:00:04\n",
      "   -------- ------------------------------- 1.6/7.8 MB 1.6 MB/s eta 0:00:04\n",
      "   -------- ------------------------------- 1.6/7.8 MB 1.6 MB/s eta 0:00:04\n",
      "   ---------- ----------------------------- 2.1/7.8 MB 1.4 MB/s eta 0:00:05\n",
      "   ------------ --------------------------- 2.4/7.8 MB 1.4 MB/s eta 0:00:04\n",
      "   -------------- ------------------------- 2.9/7.8 MB 1.5 MB/s eta 0:00:04\n",
      "   ---------------- ----------------------- 3.1/7.8 MB 1.6 MB/s eta 0:00:03\n",
      "   ------------------ --------------------- 3.7/7.8 MB 1.6 MB/s eta 0:00:03\n",
      "   -------------------- ------------------- 3.9/7.8 MB 1.7 MB/s eta 0:00:03\n",
      "   ---------------------- ----------------- 4.5/7.8 MB 1.7 MB/s eta 0:00:02\n",
      "   ------------------------- -------------- 5.0/7.8 MB 1.8 MB/s eta 0:00:02\n",
      "   ---------------------------- ----------- 5.5/7.8 MB 1.8 MB/s eta 0:00:02\n",
      "   ----------------------------- ---------- 5.8/7.8 MB 1.8 MB/s eta 0:00:02\n",
      "   ------------------------------ --------- 6.0/7.8 MB 1.8 MB/s eta 0:00:02\n",
      "   --------------------------------- ------ 6.6/7.8 MB 1.8 MB/s eta 0:00:01\n",
      "   ------------------------------------ --- 7.1/7.8 MB 1.8 MB/s eta 0:00:01\n",
      "   -------------------------------------- - 7.6/7.8 MB 1.9 MB/s eta 0:00:01\n",
      "   ---------------------------------------- 7.8/7.8 MB 1.9 MB/s eta 0:00:00\n",
      "Downloading contourpy-1.3.0-cp312-cp312-win_amd64.whl (218 kB)\n",
      "Downloading cycler-0.12.1-py3-none-any.whl (8.3 kB)\n",
      "Downloading fonttools-4.54.0-cp312-cp312-win_amd64.whl (2.2 MB)\n",
      "   ---------------------------------------- 0.0/2.2 MB ? eta -:--:--\n",
      "   ---------------------------------------- 0.0/2.2 MB ? eta -:--:--\n",
      "   ---------------------------------------- 0.0/2.2 MB ? eta -:--:--\n",
      "   ---- ----------------------------------- 0.3/2.2 MB ? eta -:--:--\n",
      "   -------------- ------------------------- 0.8/2.2 MB 1.6 MB/s eta 0:00:01\n",
      "   -------------- ------------------------- 0.8/2.2 MB 1.6 MB/s eta 0:00:01\n",
      "   -------------- ------------------------- 0.8/2.2 MB 1.6 MB/s eta 0:00:01\n",
      "   -------------- ------------------------- 0.8/2.2 MB 1.6 MB/s eta 0:00:01\n",
      "   -------------- ------------------------- 0.8/2.2 MB 1.6 MB/s eta 0:00:01\n",
      "   -------------- ------------------------- 0.8/2.2 MB 1.6 MB/s eta 0:00:01\n",
      "   -------------- ------------------------- 0.8/2.2 MB 1.6 MB/s eta 0:00:01\n",
      "   ------------------- -------------------- 1.0/2.2 MB 461.8 kB/s eta 0:00:03\n",
      "   ------------------- -------------------- 1.0/2.2 MB 461.8 kB/s eta 0:00:03\n",
      "   ------------------- -------------------- 1.0/2.2 MB 461.8 kB/s eta 0:00:03\n",
      "   ----------------------- ---------------- 1.3/2.2 MB 430.1 kB/s eta 0:00:03\n",
      "   ----------------------- ---------------- 1.3/2.2 MB 430.1 kB/s eta 0:00:03\n",
      "   ---------------------------- ----------- 1.6/2.2 MB 458.3 kB/s eta 0:00:02\n",
      "   ---------------------------- ----------- 1.6/2.2 MB 458.3 kB/s eta 0:00:02\n",
      "   --------------------------------- ------ 1.8/2.2 MB 498.2 kB/s eta 0:00:01\n",
      "   ---------------------------------------- 2.2/2.2 MB 550.4 kB/s eta 0:00:00\n",
      "Downloading kiwisolver-1.4.7-cp312-cp312-win_amd64.whl (55 kB)\n",
      "Downloading pillow-10.4.0-cp312-cp312-win_amd64.whl (2.6 MB)\n",
      "   ---------------------------------------- 0.0/2.6 MB ? eta -:--:--\n",
      "   ---- ----------------------------------- 0.3/2.6 MB ? eta -:--:--\n",
      "   -------- ------------------------------- 0.5/2.6 MB 1.4 MB/s eta 0:00:02\n",
      "   ------------ --------------------------- 0.8/2.6 MB 1.7 MB/s eta 0:00:02\n",
      "   -------------------- ------------------- 1.3/2.6 MB 1.8 MB/s eta 0:00:01\n",
      "   ---------------------------- ----------- 1.8/2.6 MB 1.9 MB/s eta 0:00:01\n",
      "   -------------------------------- ------- 2.1/2.6 MB 2.0 MB/s eta 0:00:01\n",
      "   ---------------------------------------- 2.6/2.6 MB 1.8 MB/s eta 0:00:00\n",
      "Downloading pyparsing-3.1.4-py3-none-any.whl (104 kB)\n",
      "Installing collected packages: pyparsing, pillow, kiwisolver, fonttools, cycler, contourpy, matplotlib\n",
      "Successfully installed contourpy-1.3.0 cycler-0.12.1 fonttools-4.54.0 kiwisolver-1.4.7 matplotlib-3.9.2 pillow-10.4.0 pyparsing-3.1.4\n",
      "Note: you may need to restart the kernel to use updated packages.\n"
     ]
    }
   ],
   "source": [
    "pip install matplotlib"
   ]
  },
  {
   "cell_type": "code",
   "execution_count": null,
   "id": "8d27a512-c94d-4efe-840a-ab44a805aec3",
   "metadata": {},
   "outputs": [],
   "source": []
  },
  {
   "cell_type": "code",
   "execution_count": null,
   "id": "4963d82e-66f3-4932-b890-e056fd142688",
   "metadata": {},
   "outputs": [],
   "source": []
  },
  {
   "cell_type": "code",
   "execution_count": 1,
   "id": "f6b7eb81-d13b-4537-8e3c-d5a0174458b4",
   "metadata": {},
   "outputs": [],
   "source": [
    "\n",
    "\n",
    "import numpy as np\n",
    "import matplotlib.pyplot as plt"
   ]
  },
  {
   "cell_type": "code",
   "execution_count": 3,
   "id": "1fc5d2a8-98ae-4f07-945f-1a4d108e3a15",
   "metadata": {},
   "outputs": [],
   "source": [
    "x =  np.linspace(0,10,500)\n",
    "y =  np.cumsum(np.random.randn(500,6) , 0)\n"
   ]
  },
  {
   "cell_type": "code",
   "execution_count": 5,
   "id": "801d477a-158b-43b4-81e9-13991d1849b0",
   "metadata": {},
   "outputs": [
    {
     "data": {
      "text/plain": [
       "<matplotlib.legend.Legend at 0x1c9d94ec230>"
      ]
     },
     "execution_count": 5,
     "metadata": {},
     "output_type": "execute_result"
    },
    {
     "data": {
      "image/png": "[encoded data removed]",
      "text/plain": [
       "<Figure size 1200x700 with 1 Axes>"
      ]
     },
     "metadata": {},
     "output_type": "display_data"
    }
   ],
   "source": [
    "plt.figure(figsize = (12,7))\n",
    "plt.plot(x,y)\n",
    "plt.legend('ABCDEF', ncol = 3, loc = 'upper center')"
   ]
  },
  {
   "cell_type": "code",
   "execution_count": 6,
   "id": "7405c000-c9b4-4654-b5e7-fadee630328f",
   "metadata": {},
   "outputs": [
    {
     "name": "stdout",
     "output_type": "stream",
     "text": [
      "Defaulting to user installation because normal site-packages is not writeable\n",
      "Collecting pandas\n",
      "  Downloading pandas-2.2.3-cp312-cp312-win_amd64.whl.metadata (19 kB)\n",
      "Requirement already satisfied: numpy>=1.26.0 in c:\\users\\soura\\appdata\\local\\packages\\pythonsoftwarefoundation.python.3.12_qbz5n2kfra8p0\\localcache\\local-packages\\python312\\site-packages (from pandas) (2.1.1)\n",
      "Requirement already satisfied: python-dateutil>=2.8.2 in c:\\users\\soura\\appdata\\local\\packages\\pythonsoftwarefoundation.python.3.12_qbz5n2kfra8p0\\localcache\\local-packages\\python312\\site-packages (from pandas) (2.9.0.post0)\n",
      "Collecting pytz>=2020.1 (from pandas)\n",
      "  Downloading pytz-2024.2-py2.py3-none-any.whl.metadata (22 kB)\n",
      "Collecting tzdata>=2022.7 (from pandas)\n",
      "  Downloading tzdata-2024.2-py2.py3-none-any.whl.metadata (1.4 kB)\n",
      "Requirement already satisfied: six>=1.5 in c:\\users\\soura\\appdata\\local\\packages\\pythonsoftwarefoundation.python.3.12_qbz5n2kfra8p0\\localcache\\local-packages\\python312\\site-packages (from python-dateutil>=2.8.2->pandas) (1.16.0)\n",
      "Downloading pandas-2.2.3-cp312-cp312-win_amd64.whl (11.5 MB)\n",
      "   ---------------------------------------- 0.0/11.5 MB ? eta -:--:--\n",
      "   ---------------------------------------- 0.0/11.5 MB ? eta -:--:--\n",
      "   ---------------------------------------- 0.0/11.5 MB ? eta -:--:--\n",
      "    --------------------------------------- 0.3/11.5 MB ? eta -:--:--\n",
      "    --------------------------------------- 0.3/11.5 MB ? eta -:--:--\n",
      "    --------------------------------------- 0.3/11.5 MB ? eta -:--:--\n",
      "   - -------------------------------------- 0.5/11.5 MB 524.3 kB/s eta 0:00:21\n",
      "   - -------------------------------------- 0.5/11.5 MB 524.3 kB/s eta 0:00:21\n",
      "   -- ------------------------------------- 0.8/11.5 MB 599.2 kB/s eta 0:00:18\n",
      "   -- ------------------------------------- 0.8/11.5 MB 599.2 kB/s eta 0:00:18\n",
      "   -- ------------------------------------- 0.8/11.5 MB 599.2 kB/s eta 0:00:18\n",
      "   -- ------------------------------------- 0.8/11.5 MB 599.2 kB/s eta 0:00:18\n",
      "   --- ------------------------------------ 1.0/11.5 MB 409.2 kB/s eta 0:00:26\n",
      "   --- ------------------------------------ 1.0/11.5 MB 409.2 kB/s eta 0:00:26\n",
      "   --- ------------------------------------ 1.0/11.5 MB 409.2 kB/s eta 0:00:26\n",
      "   ---- ----------------------------------- 1.3/11.5 MB 441.5 kB/s eta 0:00:24\n",
      "   ----- ---------------------------------- 1.6/11.5 MB 496.5 kB/s eta 0:00:21\n",
      "   ----- ---------------------------------- 1.6/11.5 MB 496.5 kB/s eta 0:00:21\n",
      "   ----- ---------------------------------- 1.6/11.5 MB 496.5 kB/s eta 0:00:21\n",
      "   ----- ---------------------------------- 1.6/11.5 MB 496.5 kB/s eta 0:00:21\n",
      "   ----- ---------------------------------- 1.6/11.5 MB 496.5 kB/s eta 0:00:21\n",
      "   ------ --------------------------------- 1.8/11.5 MB 426.6 kB/s eta 0:00:23\n",
      "   -------- ------------------------------- 2.4/11.5 MB 526.4 kB/s eta 0:00:18\n",
      "   --------- ------------------------------ 2.6/11.5 MB 569.9 kB/s eta 0:00:16\n",
      "   ---------- ----------------------------- 2.9/11.5 MB 597.1 kB/s eta 0:00:15\n",
      "   ----------- ---------------------------- 3.4/11.5 MB 682.5 kB/s eta 0:00:12\n",
      "   ------------- -------------------------- 3.9/11.5 MB 755.3 kB/s eta 0:00:11\n",
      "   --------------- ------------------------ 4.5/11.5 MB 831.0 kB/s eta 0:00:09\n",
      "   ---------------- ----------------------- 4.7/11.5 MB 859.2 kB/s eta 0:00:08\n",
      "   ----------------- ---------------------- 5.0/11.5 MB 883.0 kB/s eta 0:00:08\n",
      "   ------------------- -------------------- 5.5/11.5 MB 934.7 kB/s eta 0:00:07\n",
      "   -------------------- ------------------- 5.8/11.5 MB 962.6 kB/s eta 0:00:06\n",
      "   --------------------- ------------------ 6.3/11.5 MB 997.1 kB/s eta 0:00:06\n",
      "   ----------------------- ---------------- 6.8/11.5 MB 1.0 MB/s eta 0:00:05\n",
      "   ------------------------ --------------- 7.1/11.5 MB 1.1 MB/s eta 0:00:05\n",
      "   -------------------------- ------------- 7.6/11.5 MB 1.1 MB/s eta 0:00:04\n",
      "   ---------------------------- ----------- 8.1/11.5 MB 1.1 MB/s eta 0:00:03\n",
      "   ------------------------------ --------- 8.7/11.5 MB 1.2 MB/s eta 0:00:03\n",
      "   ------------------------------- -------- 9.2/11.5 MB 1.2 MB/s eta 0:00:02\n",
      "   --------------------------------- ------ 9.7/11.5 MB 1.3 MB/s eta 0:00:02\n",
      "   ---------------------------------- ----- 10.0/11.5 MB 1.3 MB/s eta 0:00:02\n",
      "   ------------------------------------ --- 10.5/11.5 MB 1.3 MB/s eta 0:00:01\n",
      "   -------------------------------------- - 11.0/11.5 MB 1.3 MB/s eta 0:00:01\n",
      "   ---------------------------------------  11.3/11.5 MB 1.3 MB/s eta 0:00:01\n",
      "   ---------------------------------------- 11.5/11.5 MB 1.3 MB/s eta 0:00:00\n",
      "Downloading pytz-2024.2-py2.py3-none-any.whl (508 kB)\n",
      "Downloading tzdata-2024.2-py2.py3-none-any.whl (346 kB)\n",
      "Installing collected packages: pytz, tzdata, pandas\n",
      "Successfully installed pandas-2.2.3 pytz-2024.2 tzdata-2024.2\n",
      "Note: you may need to restart the kernel to use updated packages.\n"
     ]
    }
   ],
   "source": [
    "pip install pandas"
   ]
  },
  {
   "cell_type": "code",
   "execution_count": 1,
   "id": "85c33f48-ebca-464a-927a-145265f4e1af",
   "metadata": {},
   "outputs": [],
   "source": [
    "import pandas as pd\n",
    "import requests\n",
    "from requests.structures import CaseInsensitiveDict\n",
    "\n"
   ]
  },
  {
   "cell_type": "markdown",
   "id": "7c21ce68-a0c1-47b0-a478-370c0063bb9e",
   "metadata": {},
   "source": [
    "\n",
    "\n",
    "url = (\"https://feedapi.tickermarket.com/TPILWebAPI/Api/V1/Data/NseEquity\");\n",
    "headers = CaseInsensitiveDict()\n",
    "\n",
    "\n",
    "\n",
    "headers [ \"Accept\"] = \"application/json\"\n",
    "headers[\"Authorization\"] = \"Bearer GciOiJIUzUxMiJ9.eyJzdWIiOiJERkRFTU8wMDAxICAgICAiLCJleHAiOjE2MjkyMTEyNDMsImlhdCI6MTYyOTE5MzI0M30.7GQJ_UxBecVe-GciOiJIUzUxMiJ9.eyJzdWIiOiJERkRFTU8wMDAxICAgICAiLCJleHAiOjE2MjkyMTEyNDMsImlhdCI6MTYyOTE5MzI0M30.7GQJ_UxBecVe-\"\n",
    "headers[\"Content-Type\"] = \"application/json\"\n",
    "\n",
    "data= \"\"\"\n",
    "{\n",
    "\"sid\" : \"4\",\n",
    "\"instId\": \"1\",\n",
    "\"rType\": \"1\"\n",
    "}\n",
    "\"\"\"\n",
    "\n",
    "resp = requests.post(url, headers=headers, data=data)\n",
    "print(resp.status_code)\n",
    "data = resp.json()\n",
    "print(data)\n"
   ]
  },
  {
   "cell_type": "code",
   "execution_count": 10,
   "id": "2dbd834f-1c8e-4834-9a9b-8d911bdd7a11",
   "metadata": {},
   "outputs": [
    {
     "name": "stdout",
     "output_type": "stream",
     "text": [
      "{'request': {'type': 'IP', 'query': '2401:4900:1c67:7bc1:91fe:474f:de04:56ff', 'language': 'en', 'unit': 'm'}, 'location': {'name': 'Faridabad', 'country': 'India', 'region': 'Haryana', 'lat': '28.433', 'lon': '77.317', 'timezone_id': 'Asia/Kolkata', 'localtime': '2024-09-26 10:52', 'localtime_epoch': 1727347920, 'utc_offset': '5.50'}, 'current': {'observation_time': '05:22 AM', 'temperature': 30, 'weather_code': 296, 'weather_icons': ['https://cdn.worldweatheronline.com/images/wsymbols01_png_64/wsymbol_0017_cloudy_with_light_rain.png'], 'weather_descriptions': ['Light Rain'], 'wind_speed': 14, 'wind_degree': 116, 'wind_dir': 'ESE', 'pressure': 1008, 'precip': 0, 'humidity': 75, 'cloudcover': 75, 'feelslike': 34, 'uv_index': 8, 'visibility': 3, 'is_day': 'yes'}}\n",
      "  observation_time  temperature  weather_code  \\\n",
      "0         05:22 AM           30           296   \n",
      "\n",
      "                                       weather_icons weather_descriptions  \\\n",
      "0  https://cdn.worldweatheronline.com/images/wsym...           Light Rain   \n",
      "\n",
      "   wind_speed  wind_degree wind_dir  pressure  precip  humidity  cloudcover  \\\n",
      "0          14          116      ESE      1008       0        75          75   \n",
      "\n",
      "   feelslike  uv_index  visibility is_day  \n",
      "0         34         8           3    yes  \n"
     ]
    }
   ],
   "source": [
    "\n",
    "API_KEY = '2e15b3161df2834a34c9089951486aff'\n",
    "url = 'https://api.weatherstack.com/current?access_key={API_KEY}'.format(API_KEY = API_KEY)\n",
    "\n",
    "\n",
    "params = CaseInsensitiveDict()\n",
    "\n",
    "params [\"query\"] = \"fetch:ip\"\n",
    "\n",
    "\n",
    "response = requests.get(url, params=params)\n",
    "\n",
    "data = response.json()\n",
    "\n",
    "#print(data)\n",
    "\n"
   ]
  },
  {
   "cell_type": "code",
   "execution_count": 11,
   "id": "2dfa1189-d6ef-4032-94f1-581f894c2749",
   "metadata": {},
   "outputs": [
    {
     "name": "stdout",
     "output_type": "stream",
     "text": [
      "  observation_time  temperature  weather_code  \\\n",
      "0         05:22 AM           30           296   \n",
      "\n",
      "                                       weather_icons weather_descriptions  \\\n",
      "0  https://cdn.worldweatheronline.com/images/wsym...           Light Rain   \n",
      "\n",
      "   wind_speed  wind_degree wind_dir  pressure  precip  humidity  cloudcover  \\\n",
      "0          14          116      ESE      1008       0        75          75   \n",
      "\n",
      "   feelslike  uv_index  visibility is_day  \n",
      "0         34         8           3    yes  \n"
     ]
    }
   ],
   "source": [
    "df = pd.DataFrame(data['current'])\n",
    "\n",
    "print(df.head())"
   ]
  },
  {
   "cell_type": "code",
   "execution_count": 2,
   "id": "316f2656-690c-47b4-8b4b-8401ba1eb45d",
   "metadata": {},
   "outputs": [],
   "source": [
    "import sys\n",
    "import numpy as np"
   ]
  },
  {
   "cell_type": "code",
   "execution_count": 3,
   "id": "f97ca945-a7c5-416f-a05f-d842a8cb8310",
   "metadata": {},
   "outputs": [],
   "source": [
    "a = np.array([1,2,3,4])"
   ]
  },
  {
   "cell_type": "code",
   "execution_count": 4,
   "id": "4e496bbc-d011-40c9-97c1-cea91cc12a93",
   "metadata": {},
   "outputs": [
    {
     "data": {
      "text/plain": [
       "array([1, 2, 3, 4])"
      ]
     },
     "execution_count": 4,
     "metadata": {},
     "output_type": "execute_result"
    }
   ],
   "source": [
    "a[::]"
   ]
  },
  {
   "cell_type": "code",
   "execution_count": 5,
   "id": "273217ea-ec15-49e5-91f4-fac6d5450934",
   "metadata": {},
   "outputs": [
    {
     "data": {
      "text/plain": [
       "array([1, 2, 3, 4])"
      ]
     },
     "execution_count": 5,
     "metadata": {},
     "output_type": "execute_result"
    }
   ],
   "source": [
    "a[0:]"
   ]
  },
  {
   "cell_type": "code",
   "execution_count": 6,
   "id": "48e775da-497b-4651-a6d3-9e296ae707f3",
   "metadata": {},
   "outputs": [
    {
     "data": {
      "text/plain": [
       "array([1, 2, 3])"
      ]
     },
     "execution_count": 6,
     "metadata": {},
     "output_type": "execute_result"
    }
   ],
   "source": [
    "a[:3]"
   ]
  },
  {
   "cell_type": "code",
   "execution_count": 7,
   "id": "270e21eb-0f7e-4623-87f2-482caaf53f17",
   "metadata": {},
   "outputs": [
    {
     "data": {
      "text/plain": [
       "array([1, 2, 3])"
      ]
     },
     "execution_count": 7,
     "metadata": {},
     "output_type": "execute_result"
    }
   ],
   "source": [
    "a[:-1]"
   ]
  },
  {
   "cell_type": "code",
   "execution_count": 8,
   "id": "e0fc9019-0657-424c-8e05-f8441b58c36e",
   "metadata": {},
   "outputs": [
    {
     "data": {
      "text/plain": [
       "array([4])"
      ]
     },
     "execution_count": 8,
     "metadata": {},
     "output_type": "execute_result"
    }
   ],
   "source": [
    "a[-1:]"
   ]
  },
  {
   "cell_type": "code",
   "execution_count": 9,
   "id": "79da5536-647d-45bd-956b-0715d91a8f25",
   "metadata": {},
   "outputs": [
    {
     "data": {
      "text/plain": [
       "array([1, 2])"
      ]
     },
     "execution_count": 9,
     "metadata": {},
     "output_type": "execute_result"
    }
   ],
   "source": [
    "a[:-2]"
   ]
  },
  {
   "cell_type": "code",
   "execution_count": 10,
   "id": "20e78412-4ecb-467f-ac47-4d6d9b2cbcfa",
   "metadata": {},
   "outputs": [
    {
     "data": {
      "text/plain": [
       "array([1, 2, 3, 4])"
      ]
     },
     "execution_count": 10,
     "metadata": {},
     "output_type": "execute_result"
    }
   ],
   "source": [
    "a[:]"
   ]
  },
  {
   "cell_type": "code",
   "execution_count": 11,
   "id": "a4a049af-b7da-4a84-b539-bf5f431c7ab5",
   "metadata": {},
   "outputs": [
    {
     "data": {
      "text/plain": [
       "array([1, 4])"
      ]
     },
     "execution_count": 11,
     "metadata": {},
     "output_type": "execute_result"
    }
   ],
   "source": [
    "a[::3]"
   ]
  },
  {
   "cell_type": "code",
   "execution_count": 12,
   "id": "5d4a0f36-13f2-4f24-b203-8413d00eeb25",
   "metadata": {},
   "outputs": [],
   "source": [
    "A =  np.array([[1,2,3], [4,5,6], [7,8,9]])"
   ]
  },
  {
   "cell_type": "code",
   "execution_count": 13,
   "id": "398316f5-7872-474c-a9bc-f9bc391c3bd0",
   "metadata": {},
   "outputs": [
    {
     "data": {
      "text/plain": [
       "np.int64(45)"
      ]
     },
     "execution_count": 13,
     "metadata": {},
     "output_type": "execute_result"
    }
   ],
   "source": [
    "A.sum()"
   ]
  },
  {
   "cell_type": "code",
   "execution_count": 14,
   "id": "2673756d-8d16-4848-90b7-1908838b7323",
   "metadata": {},
   "outputs": [
    {
     "data": {
      "text/plain": [
       "array([1, 2, 3])"
      ]
     },
     "execution_count": 14,
     "metadata": {},
     "output_type": "execute_result"
    }
   ],
   "source": [
    "A[0]"
   ]
  },
  {
   "cell_type": "code",
   "execution_count": 15,
   "id": "a48d16b4-7596-46ec-9411-8e9cc0cf7497",
   "metadata": {},
   "outputs": [
    {
     "data": {
      "text/plain": [
       "np.float64(5.0)"
      ]
     },
     "execution_count": 15,
     "metadata": {},
     "output_type": "execute_result"
    }
   ],
   "source": [
    "A.mean()"
   ]
  },
  {
   "cell_type": "code",
   "execution_count": 16,
   "id": "38d989f5-f557-4679-ac15-51e3e780a487",
   "metadata": {},
   "outputs": [
    {
     "data": {
      "text/plain": [
       "array([4., 5., 6.])"
      ]
     },
     "execution_count": 16,
     "metadata": {},
     "output_type": "execute_result"
    }
   ],
   "source": [
    "A.mean(axis=0)\n",
    "# axis 0 means vertical slices"
   ]
  },
  {
   "cell_type": "code",
   "execution_count": 1,
   "id": "8fa614f0-b5de-4796-8365-821becac3a30",
   "metadata": {},
   "outputs": [],
   "source": [
    "import numpy as np\n",
    "\n"
   ]
  },
  {
   "cell_type": "code",
   "execution_count": 4,
   "id": "373eeefe-f3d4-4f8d-84a2-686a6b5902b6",
   "metadata": {},
   "outputs": [],
   "source": [
    "a = np.arange(4)"
   ]
  },
  {
   "cell_type": "code",
   "execution_count": 5,
   "id": "8bac18d1-7d8d-4cd0-80c8-c1d104551d00",
   "metadata": {},
   "outputs": [
    {
     "data": {
      "text/plain": [
       "array([0, 1, 2, 3])"
      ]
     },
     "execution_count": 5,
     "metadata": {},
     "output_type": "execute_result"
    }
   ],
   "source": [
    "a"
   ]
  },
  {
   "cell_type": "code",
   "execution_count": 6,
   "id": "10ddc8f5-53d0-4df8-8802-5a5b9ee08840",
   "metadata": {},
   "outputs": [
    {
     "data": {
      "text/plain": [
       "array([9, 8, 7, 6, 5, 4, 3, 2, 1, 0])"
      ]
     },
     "execution_count": 6,
     "metadata": {},
     "output_type": "execute_result"
    }
   ],
   "source": [
    "a = np.arange(10)\n",
    "a = a[::-1]\n",
    "a"
   ]
  },
  {
   "cell_type": "code",
   "execution_count": 7,
   "id": "81141f9c-2b5c-4d43-8769-ca3a6720018e",
   "metadata": {},
   "outputs": [
    {
     "data": {
      "text/plain": [
       "array([9, 7, 5, 3, 1])"
      ]
     },
     "execution_count": 7,
     "metadata": {},
     "output_type": "execute_result"
    }
   ],
   "source": [
    "a[::2]"
   ]
  },
  {
   "cell_type": "code",
   "execution_count": 8,
   "id": "925901cd-c373-475c-a3ae-e2c9a20de6db",
   "metadata": {},
   "outputs": [
    {
     "data": {
      "text/plain": [
       "array([], dtype=int64)"
      ]
     },
     "execution_count": 8,
     "metadata": {},
     "output_type": "execute_result"
    }
   ],
   "source": [
    "a[:-1:-1]"
   ]
  },
  {
   "cell_type": "code",
   "execution_count": 10,
   "id": "c7c37fec-1c30-420a-beef-201fd012908a",
   "metadata": {},
   "outputs": [
    {
     "data": {
      "text/plain": [
       "np.int64(0)"
      ]
     },
     "execution_count": 10,
     "metadata": {},
     "output_type": "execute_result"
    }
   ],
   "source": [
    "a[-1]"
   ]
  },
  {
   "cell_type": "code",
   "execution_count": 13,
   "id": "daa83c65-4abf-4d25-976e-72ddd5a1167a",
   "metadata": {},
   "outputs": [
    {
     "data": {
      "text/plain": [
       "array([9, 0, 7, 6])"
      ]
     },
     "execution_count": 13,
     "metadata": {},
     "output_type": "execute_result"
    }
   ],
   "source": [
    "a[[0,-1,2,3]]\n"
   ]
  },
  {
   "cell_type": "code",
   "execution_count": 15,
   "id": "9c6ca208-8047-40b0-aeda-36c61ea80c68",
   "metadata": {},
   "outputs": [
    {
     "data": {
      "text/plain": [
       "array([9, 8, 7, 6, 5, 4, 3, 2, 1, 0])"
      ]
     },
     "execution_count": 15,
     "metadata": {},
     "output_type": "execute_result"
    }
   ],
   "source": [
    "a\n"
   ]
  },
  {
   "cell_type": "code",
   "execution_count": 16,
   "id": "0f2133ad-86da-44cf-b32f-7b560adbb5ed",
   "metadata": {},
   "outputs": [],
   "source": [
    "b = np.array([9,5,1,5,2,4,6,1,4,9])"
   ]
  },
  {
   "cell_type": "code",
   "execution_count": 19,
   "id": "123778f9-d753-4e43-a6e5-41cbef43970d",
   "metadata": {},
   "outputs": [
    {
     "data": {
      "text/plain": [
       "array([91, 50, 17, 40, 20, 26, 28, 12, 14, 10])"
      ]
     },
     "execution_count": 19,
     "metadata": {},
     "output_type": "execute_result"
    }
   ],
   "source": [
    "c = a * b\n",
    "c +=10\n",
    "c"
   ]
  },
  {
   "cell_type": "code",
   "execution_count": 5,
   "id": "5270dfa1-a747-4eeb-9172-a6d0725cfb87",
   "metadata": {},
   "outputs": [],
   "source": [
    "A = np.random.randint(10, size = (5,5))"
   ]
  },
  {
   "cell_type": "code",
   "execution_count": 6,
   "id": "99e10fb0-9b51-4581-9fe7-34141928ba8e",
   "metadata": {},
   "outputs": [
    {
     "data": {
      "text/plain": [
       "np.float64(434.8)"
      ]
     },
     "execution_count": 6,
     "metadata": {},
     "output_type": "execute_result"
    }
   ],
   "source": [
    "p = np.array([511, 200, 285, 987, 191])\n",
    "p.mean()"
   ]
  },
  {
   "cell_type": "code",
   "execution_count": 7,
   "id": "a60fe822-a765-4a23-9d85-b6a0644417a9",
   "metadata": {},
   "outputs": [
    {
     "data": {
      "text/plain": [
       "array([[5, 9, 4, 3, 8],\n",
       "       [3, 0, 5, 8, 8],\n",
       "       [7, 7, 2, 9, 1],\n",
       "       [3, 5, 2, 6, 9],\n",
       "       [6, 5, 8, 7, 6]], dtype=int32)"
      ]
     },
     "execution_count": 7,
     "metadata": {},
     "output_type": "execute_result"
    }
   ],
   "source": [
    "A"
   ]
  },
  {
   "cell_type": "code",
   "execution_count": 8,
   "id": "b84c88fc-acab-44ed-9059-bd4b36ff2afd",
   "metadata": {},
   "outputs": [
    {
     "data": {
      "text/plain": [
       "array([[ True,  True, False, False,  True],\n",
       "       [False, False,  True,  True,  True],\n",
       "       [ True,  True, False,  True, False],\n",
       "       [False, False, False, False,  True],\n",
       "       [ True, False,  True,  True, False]])"
      ]
     },
     "execution_count": 8,
     "metadata": {},
     "output_type": "execute_result"
    }
   ],
   "source": [
    "A >= A.mean(axis = 0)"
   ]
  },
  {
   "cell_type": "code",
   "execution_count": 9,
   "id": "7a9c3478-ef3e-4828-ad0c-ad97b1c5a191",
   "metadata": {},
   "outputs": [
    {
     "data": {
      "text/plain": [
       "array([[False,  True, False, False,  True],\n",
       "       [False, False, False,  True,  True],\n",
       "       [ True,  True, False,  True, False],\n",
       "       [False,  True, False,  True,  True],\n",
       "       [ True,  True,  True,  True, False]])"
      ]
     },
     "execution_count": 9,
     "metadata": {},
     "output_type": "execute_result"
    }
   ],
   "source": [
    "A >= A.mean(axis = 1)"
   ]
  },
  {
   "cell_type": "code",
   "execution_count": 10,
   "id": "835ca5ad-5e1e-4286-b639-5f47d19af880",
   "metadata": {},
   "outputs": [
    {
     "data": {
      "text/plain": [
       "array([4.8, 5.2, 4.2, 6.6, 6.4])"
      ]
     },
     "execution_count": 10,
     "metadata": {},
     "output_type": "execute_result"
    }
   ],
   "source": [
    "A.mean(axis = 0)\n"
   ]
  },
  {
   "cell_type": "code",
   "execution_count": 11,
   "id": "ab66a2f5-c863-41a3-8634-d7a44f3b1750",
   "metadata": {},
   "outputs": [
    {
     "data": {
      "text/plain": [
       "array([5.8, 4.8, 5.2, 5. , 6.4])"
      ]
     },
     "execution_count": 11,
     "metadata": {},
     "output_type": "execute_result"
    }
   ],
   "source": [
    "A.mean(axis = 1)"
   ]
  },
  {
   "cell_type": "code",
   "execution_count": 12,
   "id": "3408646c-a0b4-43b0-8e07-724ec46da66e",
   "metadata": {},
   "outputs": [
    {
     "data": {
      "text/plain": [
       "array([[False,  True, False,  True, False],\n",
       "       [ True,  True, False, False, False],\n",
       "       [False, False, False,  True, False],\n",
       "       [ True, False, False,  True,  True],\n",
       "       [ True, False, False, False,  True]])"
      ]
     },
     "execution_count": 12,
     "metadata": {},
     "output_type": "execute_result"
    }
   ],
   "source": [
    "A%3 ==0"
   ]
  },
  {
   "cell_type": "code",
   "execution_count": 13,
   "id": "27c3817d-c944-4169-8f97-8912360afcb4",
   "metadata": {},
   "outputs": [
    {
     "data": {
      "text/plain": [
       "array([[ True,  True,  True,  True,  True],\n",
       "       [ True,  True,  True,  True,  True],\n",
       "       [ True,  True,  True,  True,  True],\n",
       "       [ True,  True,  True,  True,  True],\n",
       "       [ True,  True,  True,  True,  True]])"
      ]
     },
     "execution_count": 13,
     "metadata": {},
     "output_type": "execute_result"
    }
   ],
   "source": [
    "A <=500"
   ]
  },
  {
   "cell_type": "code",
   "execution_count": 14,
   "id": "952e24f0-d500-4561-997c-b3a67ff43d1d",
   "metadata": {},
   "outputs": [
    {
     "data": {
      "text/plain": [
       "array([5, 9, 8, 5, 8, 8, 7, 7, 9, 9, 6, 8, 7], dtype=int32)"
      ]
     },
     "execution_count": 14,
     "metadata": {},
     "output_type": "execute_result"
    }
   ],
   "source": [
    "A[A >= A.mean(axis = 0)]"
   ]
  },
  {
   "cell_type": "code",
   "execution_count": 15,
   "id": "31c7c3f4-3d19-4a9f-a4df-c78a8d93c743",
   "metadata": {},
   "outputs": [],
   "source": [
    "B = np.random.randint(6,15, size = (5,3))"
   ]
  },
  {
   "cell_type": "code",
   "execution_count": 16,
   "id": "59124a49-2c8c-44a2-96f8-4b65a2486152",
   "metadata": {},
   "outputs": [
    {
     "data": {
      "text/plain": [
       "array([[10, 13, 10],\n",
       "       [14,  9, 12],\n",
       "       [14, 10, 14],\n",
       "       [ 8, 11,  9],\n",
       "       [ 6,  8,  7]], dtype=int32)"
      ]
     },
     "execution_count": 16,
     "metadata": {},
     "output_type": "execute_result"
    }
   ],
   "source": [
    "B"
   ]
  },
  {
   "cell_type": "code",
   "execution_count": 19,
   "id": "52f5a3a8-2ccd-48ef-b020-15e7f5a5c5ad",
   "metadata": {},
   "outputs": [
    {
     "data": {
      "text/plain": [
       "array([[304, 283, 297],\n",
       "       [212, 241, 228],\n",
       "       [274, 281, 270],\n",
       "       [230, 242, 235],\n",
       "       [334, 328, 337]], dtype=int32)"
      ]
     },
     "execution_count": 19,
     "metadata": {},
     "output_type": "execute_result"
    }
   ],
   "source": [
    "# A.dot(B)\n",
    "np.dot(A,B)"
   ]
  },
  {
   "cell_type": "code",
   "execution_count": 20,
   "id": "949484bb-bd20-4691-b093-e1c82ad5806c",
   "metadata": {},
   "outputs": [
    {
     "data": {
      "text/plain": [
       "array([[304, 283, 297],\n",
       "       [212, 241, 228],\n",
       "       [274, 281, 270],\n",
       "       [230, 242, 235],\n",
       "       [334, 328, 337]], dtype=int32)"
      ]
     },
     "execution_count": 20,
     "metadata": {},
     "output_type": "execute_result"
    }
   ],
   "source": [
    "A.dot(B)"
   ]
  },
  {
   "cell_type": "code",
   "execution_count": 21,
   "id": "94ec1fa1-727d-4efd-8ba2-b1a79a80fb07",
   "metadata": {},
   "outputs": [
    {
     "data": {
      "text/plain": [
       "array([[304, 283, 297],\n",
       "       [212, 241, 228],\n",
       "       [274, 281, 270],\n",
       "       [230, 242, 235],\n",
       "       [334, 328, 337]], dtype=int32)"
      ]
     },
     "execution_count": 21,
     "metadata": {},
     "output_type": "execute_result"
    }
   ],
   "source": [
    "A @ B"
   ]
  },
  {
   "cell_type": "code",
   "execution_count": 58,
   "id": "4053974a-cb48-4275-8e1b-8aca62bfb8e9",
   "metadata": {},
   "outputs": [
    {
     "data": {
      "text/plain": [
       "array([[4, 0, 3, 4, 2],\n",
       "       [5, 2, 2, 3, 2],\n",
       "       [5, 4, 0, 4, 3]], dtype=int32)"
      ]
     },
     "execution_count": 58,
     "metadata": {},
     "output_type": "execute_result"
    }
   ],
   "source": [
    "B.T"
   ]
  },
  {
   "cell_type": "code",
   "execution_count": null,
   "id": "09b4eaf9-5e0b-49de-978a-55d13c9aee5c",
   "metadata": {},
   "outputs": [],
   "source": []
  },
  {
   "cell_type": "code",
   "execution_count": 3,
   "id": "7ae457eb-d6da-4114-9e62-4063fa8b5b22",
   "metadata": {},
   "outputs": [
    {
     "data": {
      "text/plain": [
       "array([2.5, 1. , 2.5])"
      ]
     },
     "execution_count": 3,
     "metadata": {},
     "output_type": "execute_result"
    }
   ],
   "source": [
    "np.mean([[3,1,2],[2,1,3]], axis = 0)"
   ]
  },
  {
   "cell_type": "code",
   "execution_count": 2,
   "id": "5293dd10-f6b9-444a-9b8f-d6ced94bd4ca",
   "metadata": {},
   "outputs": [],
   "source": [
    "A = np.ones(9).reshape(3,3)*7"
   ]
  },
  {
   "cell_type": "code",
   "execution_count": 3,
   "id": "3836141b-bf82-4357-8a5c-ca95bb6b8db4",
   "metadata": {},
   "outputs": [
    {
     "data": {
      "text/plain": [
       "array([[7., 7., 7.],\n",
       "       [7., 7., 7.],\n",
       "       [7., 7., 7.]])"
      ]
     },
     "execution_count": 3,
     "metadata": {},
     "output_type": "execute_result"
    }
   ],
   "source": [
    "A\n"
   ]
  },
  {
   "cell_type": "code",
   "execution_count": 5,
   "id": "9f0e07ea-fcbb-4a28-aecb-934a48e5c80a",
   "metadata": {},
   "outputs": [
    {
     "data": {
      "text/plain": [
       "array([[10,  9,  8,  7,  6],\n",
       "       [ 5,  4,  3,  2,  1]])"
      ]
     },
     "execution_count": 5,
     "metadata": {},
     "output_type": "execute_result"
    }
   ],
   "source": [
    "B = np.arange(10,0,-1).reshape(2,5)\n",
    "B"
   ]
  },
  {
   "cell_type": "code",
   "execution_count": 6,
   "id": "6348f0ad-8b3d-4dbb-bdb9-3bc0ec514386",
   "metadata": {},
   "outputs": [
    {
     "data": {
      "text/plain": [
       "array([[ True,  True,  True,  True,  True],\n",
       "       [False, False, False, False, False]])"
      ]
     },
     "execution_count": 6,
     "metadata": {},
     "output_type": "execute_result"
    }
   ],
   "source": [
    "B >= B.mean()\n"
   ]
  },
  {
   "cell_type": "code",
   "execution_count": 7,
   "id": "7b7fd16f-3253-4929-97b2-1826f8e71184",
   "metadata": {},
   "outputs": [
    {
     "data": {
      "text/plain": [
       "array([10,  9,  8,  7,  6])"
      ]
     },
     "execution_count": 7,
     "metadata": {},
     "output_type": "execute_result"
    }
   ],
   "source": [
    "B[B >= B.mean()]\n"
   ]
  },
  {
   "cell_type": "code",
   "execution_count": 1,
   "id": "80e325e6-6eef-462c-8ad0-bcc8281c712f",
   "metadata": {},
   "outputs": [],
   "source": [
    "locations = set()"
   ]
  },
  {
   "cell_type": "code",
   "execution_count": 5,
   "id": "acfcdda3-387b-487b-b2f1-faccdf526cfe",
   "metadata": {},
   "outputs": [],
   "source": [
    "list1 = [0,2]\n",
    "something1 = (0,2)"
   ]
  },
  {
   "cell_type": "code",
   "execution_count": 6,
   "id": "a5d9ca1e-d9c2-4d5e-9464-47e77b016d9f",
   "metadata": {},
   "outputs": [],
   "source": [
    "locations.add(something1)"
   ]
  },
  {
   "cell_type": "code",
   "execution_count": 7,
   "id": "28ecb586-7b7d-40e5-9b06-cc517e77dc1f",
   "metadata": {},
   "outputs": [
    {
     "data": {
      "text/plain": [
       "{(0, 2)}"
      ]
     },
     "execution_count": 7,
     "metadata": {},
     "output_type": "execute_result"
    }
   ],
   "source": [
    "locations"
   ]
  },
  {
   "cell_type": "code",
   "execution_count": 8,
   "id": "b827a735-44fb-46de-8482-b987f3855a83",
   "metadata": {},
   "outputs": [
    {
     "ename": "TypeError",
     "evalue": "'tuple' object does not support item assignment",
     "output_type": "error",
     "traceback": [
      "\u001b[1;31m---------------------------------------------------------------------------\u001b[0m",
      "\u001b[1;31mTypeError\u001b[0m                                 Traceback (most recent call last)",
      "Cell \u001b[1;32mIn[8], line 1\u001b[0m\n\u001b[1;32m----> 1\u001b[0m \u001b[43msomething1\u001b[49m\u001b[43m[\u001b[49m\u001b[38;5;241;43m0\u001b[39;49m\u001b[43m]\u001b[49m \u001b[38;5;241m=\u001b[39m \u001b[38;5;241m5\u001b[39m\n",
      "\u001b[1;31mTypeError\u001b[0m: 'tuple' object does not support item assignment"
     ]
    }
   ],
   "source": [
    "something1[0] = 5"
   ]
  },
  {
   "cell_type": "code",
   "execution_count": 9,
   "id": "d58f7b0a-d2d3-46b6-a6e5-04ad6408ff46",
   "metadata": {},
   "outputs": [
    {
     "data": {
      "text/plain": [
       "{(0, 2), (0, 3)}"
      ]
     },
     "execution_count": 9,
     "metadata": {},
     "output_type": "execute_result"
    }
   ],
   "source": [
    "some = list(something1)\n",
    "some[1] += 1\n",
    "something1 = tuple(some)\n",
    "locations.add(something1)\n",
    "locations"
   ]
  },
  {
   "cell_type": "code",
   "execution_count": 10,
   "id": "14ab2676-af0e-43ac-882d-a34391c3fc70",
   "metadata": {},
   "outputs": [
    {
     "data": {
      "text/plain": [
       "(0, 3)"
      ]
     },
     "execution_count": 10,
     "metadata": {},
     "output_type": "execute_result"
    }
   ],
   "source": [
    "something1\n"
   ]
  },
  {
   "cell_type": "code",
   "execution_count": 11,
   "id": "1e400f40-19a7-4456-887c-3c156a2a33d1",
   "metadata": {},
   "outputs": [
    {
     "name": "stdout",
     "output_type": "stream",
     "text": [
      "true\n"
     ]
    }
   ],
   "source": [
    "if something1 in locations:\n",
    "    print(\"true\")"
   ]
  },
  {
   "cell_type": "code",
   "execution_count": 12,
   "id": "7eecc976-bcca-42b6-8510-9e96e4aed3bf",
   "metadata": {},
   "outputs": [],
   "source": [
    "locations.add((0,3))"
   ]
  },
  {
   "cell_type": "code",
   "execution_count": 13,
   "id": "96d0e99d-51e4-41f9-a407-ca91ede9f402",
   "metadata": {},
   "outputs": [
    {
     "data": {
      "text/plain": [
       "{(0, 2), (0, 3)}"
      ]
     },
     "execution_count": 13,
     "metadata": {},
     "output_type": "execute_result"
    }
   ],
   "source": [
    "locations\n"
   ]
  },
  {
   "cell_type": "code",
   "execution_count": 15,
   "id": "5108cd8d-d981-4b87-ac56-20d42e5fa7d7",
   "metadata": {},
   "outputs": [
    {
     "ename": "TypeError",
     "evalue": "unhashable type: 'set'",
     "output_type": "error",
     "traceback": [
      "\u001b[1;31m---------------------------------------------------------------------------\u001b[0m",
      "\u001b[1;31mTypeError\u001b[0m                                 Traceback (most recent call last)",
      "Cell \u001b[1;32mIn[15], line 5\u001b[0m\n\u001b[0;32m      3\u001b[0m setB\u001b[38;5;241m.\u001b[39madd((\u001b[38;5;241m2\u001b[39m,\u001b[38;5;241m5\u001b[39m))\n\u001b[0;32m      4\u001b[0m setB\u001b[38;5;241m.\u001b[39madd((\u001b[38;5;241m4\u001b[39m,\u001b[38;5;241m1\u001b[39m))\n\u001b[1;32m----> 5\u001b[0m \u001b[43mlocations\u001b[49m\u001b[38;5;241;43m.\u001b[39;49m\u001b[43madd\u001b[49m\u001b[43m(\u001b[49m\u001b[43msetB\u001b[49m\u001b[43m)\u001b[49m\n\u001b[0;32m      6\u001b[0m locations\n",
      "\u001b[1;31mTypeError\u001b[0m: unhashable type: 'set'"
     ]
    }
   ],
   "source": [
    "setB = set()\n",
    "setB.add((0,1))\n",
    "setB.add((2,5))\n",
    "setB.add((4,1))\n",
    "locations.add(setB)\n",
    "locations"
   ]
  },
  {
   "cell_type": "code",
   "execution_count": null,
   "id": "4d60c5e4-9ae1-4a11-aeb5-1c8888e4e89e",
   "metadata": {},
   "outputs": [],
   "source": [
    "import pandas as pd\n",
    "import numpy as np"
   ]
  },
  {
   "cell_type": "code",
   "execution_count": 1,
   "id": "f4cedf77-0397-4aea-a4c0-7d0041602a6d",
   "metadata": {},
   "outputs": [],
   "source": [
    "l = 1"
   ]
  },
  {
   "cell_type": "code",
   "execution_count": 2,
   "id": "b1780a4c-b605-4d5c-a294-c941b7078971",
   "metadata": {},
   "outputs": [
    {
     "name": "stdout",
     "output_type": "stream",
     "text": [
      "Defaulting to user installation because normal site-packages is not writeable\n",
      "Requirement already satisfied: pandas in c:\\users\\soura\\appdata\\local\\packages\\pythonsoftwarefoundation.python.3.12_qbz5n2kfra8p0\\localcache\\local-packages\\python312\\site-packages (2.2.3)\n",
      "Requirement already satisfied: numpy>=1.26.0 in c:\\users\\soura\\appdata\\local\\packages\\pythonsoftwarefoundation.python.3.12_qbz5n2kfra8p0\\localcache\\local-packages\\python312\\site-packages (from pandas) (2.1.1)\n",
      "Requirement already satisfied: python-dateutil>=2.8.2 in c:\\users\\soura\\appdata\\local\\packages\\pythonsoftwarefoundation.python.3.12_qbz5n2kfra8p0\\localcache\\local-packages\\python312\\site-packages (from pandas) (2.9.0.post0)\n",
      "Requirement already satisfied: pytz>=2020.1 in c:\\users\\soura\\appdata\\local\\packages\\pythonsoftwarefoundation.python.3.12_qbz5n2kfra8p0\\localcache\\local-packages\\python312\\site-packages (from pandas) (2024.2)\n",
      "Requirement already satisfied: tzdata>=2022.7 in c:\\users\\soura\\appdata\\local\\packages\\pythonsoftwarefoundation.python.3.12_qbz5n2kfra8p0\\localcache\\local-packages\\python312\\site-packages (from pandas) (2024.2)\n",
      "Requirement already satisfied: six>=1.5 in c:\\users\\soura\\appdata\\local\\packages\\pythonsoftwarefoundation.python.3.12_qbz5n2kfra8p0\\localcache\\local-packages\\python312\\site-packages (from python-dateutil>=2.8.2->pandas) (1.16.0)\n",
      "Note: you may need to restart the kernel to use updated packages.\n"
     ]
    },
    {
     "name": "stderr",
     "output_type": "stream",
     "text": [
      "\n",
      "[notice] A new release of pip is available: 24.2 -> 24.3.1\n",
      "[notice] To update, run: C:\\Users\\soura\\AppData\\Local\\Microsoft\\WindowsApps\\PythonSoftwareFoundation.Python.3.12_qbz5n2kfra8p0\\python.exe -m pip install --upgrade pip\n"
     ]
    }
   ],
   "source": [
    "pip install pandas"
   ]
  },
  {
   "cell_type": "code",
   "execution_count": 1,
   "id": "75de0eda-e618-48b8-8688-11db83a5a853",
   "metadata": {},
   "outputs": [],
   "source": [
    "import pandas as pd"
   ]
  },
  {
   "cell_type": "code",
   "execution_count": 4,
   "id": "07b3fac1-1c0e-449c-8a82-549a71a5ba28",
   "metadata": {},
   "outputs": [],
   "source": [
    "import numpy as np\n"
   ]
  },
  {
   "cell_type": "code",
   "execution_count": 5,
   "id": "683fd3f8-acd2-40a0-9950-fe3cba0b89e9",
   "metadata": {},
   "outputs": [],
   "source": [
    "X = pd.Series([100.4, 65.7])"
   ]
  },
  {
   "cell_type": "code",
   "execution_count": 6,
   "id": "d0cc3cb4-02c1-491f-9d8c-d093e3a398ee",
   "metadata": {},
   "outputs": [],
   "source": [
    "X.name = 'some random series'"
   ]
  },
  {
   "cell_type": "code",
   "execution_count": 7,
   "id": "9d6e0f27-f478-4af0-bfb4-dbc544af9383",
   "metadata": {},
   "outputs": [
    {
     "data": {
      "text/plain": [
       "0    100.4\n",
       "1     65.7\n",
       "Name: some random series, dtype: float64"
      ]
     },
     "execution_count": 7,
     "metadata": {},
     "output_type": "execute_result"
    }
   ],
   "source": [
    "X"
   ]
  },
  {
   "cell_type": "code",
   "execution_count": 8,
   "id": "e0656278-d0c5-44ee-8ef8-3dea486f0c1b",
   "metadata": {},
   "outputs": [],
   "source": [
    "X.index = ['A','B']"
   ]
  },
  {
   "cell_type": "code",
   "execution_count": 9,
   "id": "8c97f6c4-d3d3-436b-87b8-8ac49e806e49",
   "metadata": {},
   "outputs": [
    {
     "data": {
      "text/plain": [
       "A    100.4\n",
       "B     65.7\n",
       "Name: some random series, dtype: float64"
      ]
     },
     "execution_count": 9,
     "metadata": {},
     "output_type": "execute_result"
    }
   ],
   "source": [
    "X"
   ]
  },
  {
   "cell_type": "code",
   "execution_count": 10,
   "id": "46ee8d3e-8538-42fb-9240-51c2982473fb",
   "metadata": {},
   "outputs": [
    {
     "data": {
      "text/plain": [
       "array([100.4,  65.7])"
      ]
     },
     "execution_count": 10,
     "metadata": {},
     "output_type": "execute_result"
    }
   ],
   "source": [
    "X.values"
   ]
  },
  {
   "cell_type": "code",
   "execution_count": 11,
   "id": "dd3d6061-059d-441b-9d8d-abd3172e2768",
   "metadata": {},
   "outputs": [
    {
     "name": "stderr",
     "output_type": "stream",
     "text": [
      "C:\\Users\\soura\\AppData\\Local\\Temp\\ipykernel_10392\\249385606.py:1: FutureWarning: Series.__getitem__ treating keys as positions is deprecated. In a future version, integer keys will always be treated as labels (consistent with DataFrame behavior). To access a value by position, use `ser.iloc[pos]`\n",
      "  X[0]\n"
     ]
    },
    {
     "data": {
      "text/plain": [
       "np.float64(100.4)"
      ]
     },
     "execution_count": 11,
     "metadata": {},
     "output_type": "execute_result"
    }
   ],
   "source": [
    "X[0]"
   ]
  },
  {
   "cell_type": "code",
   "execution_count": 12,
   "id": "bf038793-c55c-462f-a73c-15c679123972",
   "metadata": {},
   "outputs": [
    {
     "data": {
      "text/plain": [
       "np.float64(100.4)"
      ]
     },
     "execution_count": 12,
     "metadata": {},
     "output_type": "execute_result"
    }
   ],
   "source": [
    "X['A']"
   ]
  },
  {
   "cell_type": "code",
   "execution_count": 1,
   "id": "9de6a012-8057-409c-8631-64c3133eee15",
   "metadata": {},
   "outputs": [],
   "source": [
    "x = int(5)"
   ]
  },
  {
   "cell_type": "code",
   "execution_count": 2,
   "id": "4a7f8ec4-c723-4fbb-b098-154747fc3e16",
   "metadata": {},
   "outputs": [
    {
     "data": {
      "text/plain": [
       "5"
      ]
     },
     "execution_count": 2,
     "metadata": {},
     "output_type": "execute_result"
    }
   ],
   "source": [
    "x"
   ]
  },
  {
   "cell_type": "code",
   "execution_count": 3,
   "id": "43b697a5-acea-4cc9-a058-4f16f4c8a7dc",
   "metadata": {},
   "outputs": [
    {
     "name": "stdout",
     "output_type": "stream",
     "text": [
      "<class 'float'>\n"
     ]
    }
   ],
   "source": [
    "x= 2.8\n",
    "print(type(x))"
   ]
  },
  {
   "cell_type": "code",
   "execution_count": 4,
   "id": "2c9b767f-c656-4f0a-97e7-9d22280da819",
   "metadata": {},
   "outputs": [
    {
     "ename": "NameError",
     "evalue": "name 'sub' is not defined",
     "output_type": "error",
     "traceback": [
      "\u001b[1;31m---------------------------------------------------------------------------\u001b[0m",
      "\u001b[1;31mNameError\u001b[0m                                 Traceback (most recent call last)",
      "Cell \u001b[1;32mIn[4], line 1\u001b[0m\n\u001b[1;32m----> 1\u001b[0m x \u001b[38;5;241m=\u001b[39m \u001b[43msub\u001b[49m(\u001b[38;5;124m\"\u001b[39m\u001b[38;5;124mHello\u001b[39m\u001b[38;5;124m\"\u001b[39m,\u001b[38;5;241m0\u001b[39m,\u001b[38;5;241m1\u001b[39m)\n",
      "\u001b[1;31mNameError\u001b[0m: name 'sub' is not defined"
     ]
    }
   ],
   "source": [
    "x = sub(\"Hello\",0,1)"
   ]
  },
  {
   "cell_type": "code",
   "execution_count": 8,
   "id": "e2b83683-2ec3-470a-bc98-74b78fd10914",
   "metadata": {},
   "outputs": [
    {
     "data": {
      "text/plain": [
       "'MYSELF'"
      ]
     },
     "execution_count": 8,
     "metadata": {},
     "output_type": "execute_result"
    }
   ],
   "source": [
    "x =  \"myself\".upper()\n",
    "x"
   ]
  },
  {
   "cell_type": "code",
   "execution_count": 1,
   "id": "4d1621c5-5110-4538-9f19-a1da50519366",
   "metadata": {},
   "outputs": [
    {
     "ename": "NameError",
     "evalue": "name 'pyjokes' is not defined",
     "output_type": "error",
     "traceback": [
      "\u001b[1;31m---------------------------------------------------------------------------\u001b[0m",
      "\u001b[1;31mNameError\u001b[0m                                 Traceback (most recent call last)",
      "Cell \u001b[1;32mIn[1], line 1\u001b[0m\n\u001b[1;32m----> 1\u001b[0m \u001b[43mpyjokes\u001b[49m\u001b[38;5;241m.\u001b[39mgetjoke()\n",
      "\u001b[1;31mNameError\u001b[0m: name 'pyjokes' is not defined"
     ]
    }
   ],
   "source": [
    "pyjokes.getjoke()"
   ]
  },
  {
   "cell_type": "code",
   "execution_count": 5,
   "id": "a6260130-2172-4c91-89e8-5dc339088028",
   "metadata": {},
   "outputs": [
    {
     "data": {
      "text/plain": [
       "\"Why do you always use i and j variales in loops? It's the law......\""
      ]
     },
     "execution_count": 5,
     "metadata": {},
     "output_type": "execute_result"
    }
   ],
   "source": [
    "import pyjokes as pj\n",
    "pj.get_joke()"
   ]
  },
  {
   "cell_type": "code",
   "execution_count": 3,
   "id": "a0698936-da14-4e46-9466-091aa8e5e680",
   "metadata": {},
   "outputs": [
    {
     "name": "stdout",
     "output_type": "stream",
     "text": [
      "Defaulting to user installation because normal site-packages is not writeableNote: you may need to restart the kernel to use updated packages.\n",
      "\n",
      "Collecting pyjokes\n",
      "  Using cached pyjokes-0.8.3-py3-none-any.whl.metadata (3.4 kB)\n",
      "Using cached pyjokes-0.8.3-py3-none-any.whl (47 kB)\n",
      "Installing collected packages: pyjokes\n",
      "Successfully installed pyjokes-0.8.3\n"
     ]
    },
    {
     "name": "stderr",
     "output_type": "stream",
     "text": [
      "\n",
      "[notice] A new release of pip is available: 24.2 -> 24.3.1\n",
      "[notice] To update, run: C:\\Users\\soura\\AppData\\Local\\Microsoft\\WindowsApps\\PythonSoftwareFoundation.Python.3.12_qbz5n2kfra8p0\\python.exe -m pip install --upgrade pip\n"
     ]
    }
   ],
   "source": [
    "pip install pyjokes"
   ]
  },
  {
   "cell_type": "code",
   "execution_count": 6,
   "id": "8d8b130d-a352-43d9-9084-9fdbf00f1a4a",
   "metadata": {},
   "outputs": [
    {
     "data": {
      "text/plain": [
       "'The C language combines all the power of assembly language with all the ease-of-use of assembly language.'"
      ]
     },
     "execution_count": 6,
     "metadata": {},
     "output_type": "execute_result"
    }
   ],
   "source": [
    "pj.get_joke()"
   ]
  },
  {
   "cell_type": "code",
   "execution_count": null,
   "id": "9610f4f6-4f35-4b40-996b-a175ec0c6ce2",
   "metadata": {},
   "outputs": [],
   "source": []
  },
  {
   "cell_type": "code",
   "execution_count": 7,
   "id": "7e46baaa-8716-46ea-bb1b-9c83dd8e70e1",
   "metadata": {},
   "outputs": [
    {
     "data": {
      "text/plain": [
       "\"I haven't lost my mind; it's backed up on tape somewhere.\""
      ]
     },
     "execution_count": 7,
     "metadata": {},
     "output_type": "execute_result"
    }
   ],
   "source": [
    "pj.get_joke()"
   ]
  },
  {
   "cell_type": "code",
   "execution_count": null,
   "id": "eaec38ee-e2ba-46e7-bf08-2ff99cf1c4ee",
   "metadata": {},
   "outputs": [],
   "source": []
  }
 ],
 "metadata": {
  "kernelspec": {
   "display_name": "Python 3 (ipykernel)",
   "language": "python",
   "name": "python3"
  },
  "language_info": {
   "codemirror_mode": {
    "name": "ipython",
    "version": 3
   },
   "file_extension": ".py",
   "mimetype": "text/x-python",
   "name": "python",
   "nbconvert_exporter": "python",
   "pygments_lexer": "ipython3",
   "version": "3.12.7"
  }
 },
 "nbformat": 4,
 "nbformat_minor": 5
}
